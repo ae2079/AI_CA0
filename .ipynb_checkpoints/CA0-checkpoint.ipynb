{
 "cells": [
  {
   "cell_type": "markdown",
   "id": "50eea8a8",
   "metadata": {},
   "source": [
    "### اولین پروژه هوش مصنوعی با هدف آشنایی با ژوپیتر نوت بوک و برخی کتابخانه های پایتون که در هوش مصنوعی و یادگیری ماشین کاربرد دارند و پرکردن نواقص یک دیتاست با پیشبینی آن ها به کمک تحلیل آماری"
   ]
  },
  {
   "cell_type": "markdown",
   "id": "fe05983c",
   "metadata": {},
   "source": [
    "### در این پروژه ابتدا به بررسی و ویژوالیزیشن داده ها می پردازیم. سپس با استفاده از تحلیل هایی که روی داده ها انجام می دهیم ، یک مدل ساده ی رگرسیون خطی برای پیشبینی به دست می آوریم"
   ]
  },
  {
   "cell_type": "markdown",
   "id": "289245a8",
   "metadata": {},
   "source": [
    "# imports"
   ]
  },
  {
   "cell_type": "code",
   "execution_count": 1,
   "id": "d3c10ecf",
   "metadata": {},
   "outputs": [],
   "source": [
    "import numpy as np\n",
    "import matplotlib as ml\n",
    "import pandas as pd\n",
    "import time"
   ]
  },
  {
   "cell_type": "markdown",
   "id": "55cd082d",
   "metadata": {},
   "source": [
    "# Body"
   ]
  },
  {
   "cell_type": "code",
   "execution_count": 2,
   "id": "c125d0b4",
   "metadata": {},
   "outputs": [],
   "source": [
    "dataframe = pd.read_csv(\"FuelConsumptionCo2.csv\")"
   ]
  },
  {
   "cell_type": "code",
   "execution_count": 3,
   "id": "0a90add9",
   "metadata": {
    "scrolled": false
   },
   "outputs": [
    {
     "data": {
      "text/html": [
       "<div>\n",
       "<style scoped>\n",
       "    .dataframe tbody tr th:only-of-type {\n",
       "        vertical-align: middle;\n",
       "    }\n",
       "\n",
       "    .dataframe tbody tr th {\n",
       "        vertical-align: top;\n",
       "    }\n",
       "\n",
       "    .dataframe thead th {\n",
       "        text-align: right;\n",
       "    }\n",
       "</style>\n",
       "<table border=\"1\" class=\"dataframe\">\n",
       "  <thead>\n",
       "    <tr style=\"text-align: right;\">\n",
       "      <th></th>\n",
       "      <th>Unnamed: 0</th>\n",
       "      <th>MODELYEAR</th>\n",
       "      <th>MAKE</th>\n",
       "      <th>MODEL</th>\n",
       "      <th>VEHICLECLASS</th>\n",
       "      <th>ENGINESIZE</th>\n",
       "      <th>CYLINDERS</th>\n",
       "      <th>TRANSMISSION</th>\n",
       "      <th>FUELTYPE</th>\n",
       "      <th>FUELCONSUMPTION_CITY</th>\n",
       "      <th>FUELCONSUMPTION_HWY</th>\n",
       "      <th>FUELCONSUMPTION_COMB</th>\n",
       "      <th>FUELCONSUMPTION_COMB_MPG</th>\n",
       "      <th>CO2EMISSIONS</th>\n",
       "    </tr>\n",
       "  </thead>\n",
       "  <tbody>\n",
       "    <tr>\n",
       "      <th>0</th>\n",
       "      <td>0</td>\n",
       "      <td>2014</td>\n",
       "      <td>ACURA</td>\n",
       "      <td>ILX</td>\n",
       "      <td>COMPACT</td>\n",
       "      <td>2.0</td>\n",
       "      <td>4.0</td>\n",
       "      <td>AS5</td>\n",
       "      <td>Z</td>\n",
       "      <td>9.9</td>\n",
       "      <td>6.7</td>\n",
       "      <td>8.5</td>\n",
       "      <td>33</td>\n",
       "      <td>196.0</td>\n",
       "    </tr>\n",
       "    <tr>\n",
       "      <th>1</th>\n",
       "      <td>1</td>\n",
       "      <td>2014</td>\n",
       "      <td>ACURA</td>\n",
       "      <td>ILX</td>\n",
       "      <td>COMPACT</td>\n",
       "      <td>2.4</td>\n",
       "      <td>4.0</td>\n",
       "      <td>M6</td>\n",
       "      <td>Z</td>\n",
       "      <td>11.2</td>\n",
       "      <td>7.7</td>\n",
       "      <td>9.6</td>\n",
       "      <td>29</td>\n",
       "      <td>221.0</td>\n",
       "    </tr>\n",
       "    <tr>\n",
       "      <th>2</th>\n",
       "      <td>2</td>\n",
       "      <td>2014</td>\n",
       "      <td>ACURA</td>\n",
       "      <td>ILX HYBRID</td>\n",
       "      <td>COMPACT</td>\n",
       "      <td>1.5</td>\n",
       "      <td>4.0</td>\n",
       "      <td>AV7</td>\n",
       "      <td>Z</td>\n",
       "      <td>6.0</td>\n",
       "      <td>5.8</td>\n",
       "      <td>5.9</td>\n",
       "      <td>48</td>\n",
       "      <td>136.0</td>\n",
       "    </tr>\n",
       "    <tr>\n",
       "      <th>3</th>\n",
       "      <td>3</td>\n",
       "      <td>2014</td>\n",
       "      <td>ACURA</td>\n",
       "      <td>MDX 4WD</td>\n",
       "      <td>SUV - SMALL</td>\n",
       "      <td>3.5</td>\n",
       "      <td>6.0</td>\n",
       "      <td>AS6</td>\n",
       "      <td>Z</td>\n",
       "      <td>12.7</td>\n",
       "      <td>9.1</td>\n",
       "      <td>11.1</td>\n",
       "      <td>25</td>\n",
       "      <td>NaN</td>\n",
       "    </tr>\n",
       "    <tr>\n",
       "      <th>4</th>\n",
       "      <td>4</td>\n",
       "      <td>2014</td>\n",
       "      <td>ACURA</td>\n",
       "      <td>RDX AWD</td>\n",
       "      <td>SUV - SMALL</td>\n",
       "      <td>3.5</td>\n",
       "      <td>6.0</td>\n",
       "      <td>AS6</td>\n",
       "      <td>Z</td>\n",
       "      <td>12.1</td>\n",
       "      <td>8.7</td>\n",
       "      <td>10.6</td>\n",
       "      <td>27</td>\n",
       "      <td>244.0</td>\n",
       "    </tr>\n",
       "    <tr>\n",
       "      <th>...</th>\n",
       "      <td>...</td>\n",
       "      <td>...</td>\n",
       "      <td>...</td>\n",
       "      <td>...</td>\n",
       "      <td>...</td>\n",
       "      <td>...</td>\n",
       "      <td>...</td>\n",
       "      <td>...</td>\n",
       "      <td>...</td>\n",
       "      <td>...</td>\n",
       "      <td>...</td>\n",
       "      <td>...</td>\n",
       "      <td>...</td>\n",
       "      <td>...</td>\n",
       "    </tr>\n",
       "    <tr>\n",
       "      <th>1062</th>\n",
       "      <td>1062</td>\n",
       "      <td>2014</td>\n",
       "      <td>VOLVO</td>\n",
       "      <td>XC60 AWD</td>\n",
       "      <td>SUV - SMALL</td>\n",
       "      <td>3.0</td>\n",
       "      <td>6.0</td>\n",
       "      <td>AS6</td>\n",
       "      <td>X</td>\n",
       "      <td>13.4</td>\n",
       "      <td>9.8</td>\n",
       "      <td>11.8</td>\n",
       "      <td>24</td>\n",
       "      <td>271.0</td>\n",
       "    </tr>\n",
       "    <tr>\n",
       "      <th>1063</th>\n",
       "      <td>1063</td>\n",
       "      <td>2014</td>\n",
       "      <td>VOLVO</td>\n",
       "      <td>XC60 AWD</td>\n",
       "      <td>SUV - SMALL</td>\n",
       "      <td>3.2</td>\n",
       "      <td>6.0</td>\n",
       "      <td>AS6</td>\n",
       "      <td>X</td>\n",
       "      <td>13.2</td>\n",
       "      <td>9.5</td>\n",
       "      <td>11.5</td>\n",
       "      <td>25</td>\n",
       "      <td>264.0</td>\n",
       "    </tr>\n",
       "    <tr>\n",
       "      <th>1064</th>\n",
       "      <td>1064</td>\n",
       "      <td>2014</td>\n",
       "      <td>VOLVO</td>\n",
       "      <td>XC70 AWD</td>\n",
       "      <td>SUV - SMALL</td>\n",
       "      <td>3.0</td>\n",
       "      <td>6.0</td>\n",
       "      <td>AS6</td>\n",
       "      <td>X</td>\n",
       "      <td>13.4</td>\n",
       "      <td>9.8</td>\n",
       "      <td>11.8</td>\n",
       "      <td>24</td>\n",
       "      <td>271.0</td>\n",
       "    </tr>\n",
       "    <tr>\n",
       "      <th>1065</th>\n",
       "      <td>1065</td>\n",
       "      <td>2014</td>\n",
       "      <td>VOLVO</td>\n",
       "      <td>XC70 AWD</td>\n",
       "      <td>SUV - SMALL</td>\n",
       "      <td>3.2</td>\n",
       "      <td>6.0</td>\n",
       "      <td>AS6</td>\n",
       "      <td>X</td>\n",
       "      <td>12.9</td>\n",
       "      <td>9.3</td>\n",
       "      <td>11.3</td>\n",
       "      <td>25</td>\n",
       "      <td>260.0</td>\n",
       "    </tr>\n",
       "    <tr>\n",
       "      <th>1066</th>\n",
       "      <td>1066</td>\n",
       "      <td>2014</td>\n",
       "      <td>VOLVO</td>\n",
       "      <td>XC90 AWD</td>\n",
       "      <td>SUV - STANDARD</td>\n",
       "      <td>3.2</td>\n",
       "      <td>6.0</td>\n",
       "      <td>AS6</td>\n",
       "      <td>X</td>\n",
       "      <td>14.9</td>\n",
       "      <td>10.2</td>\n",
       "      <td>12.8</td>\n",
       "      <td>22</td>\n",
       "      <td>294.0</td>\n",
       "    </tr>\n",
       "  </tbody>\n",
       "</table>\n",
       "<p>1067 rows × 14 columns</p>\n",
       "</div>"
      ],
      "text/plain": [
       "      Unnamed: 0  MODELYEAR   MAKE       MODEL    VEHICLECLASS  ENGINESIZE  \\\n",
       "0              0       2014  ACURA         ILX         COMPACT         2.0   \n",
       "1              1       2014  ACURA         ILX         COMPACT         2.4   \n",
       "2              2       2014  ACURA  ILX HYBRID         COMPACT         1.5   \n",
       "3              3       2014  ACURA     MDX 4WD     SUV - SMALL         3.5   \n",
       "4              4       2014  ACURA     RDX AWD     SUV - SMALL         3.5   \n",
       "...          ...        ...    ...         ...             ...         ...   \n",
       "1062        1062       2014  VOLVO    XC60 AWD     SUV - SMALL         3.0   \n",
       "1063        1063       2014  VOLVO    XC60 AWD     SUV - SMALL         3.2   \n",
       "1064        1064       2014  VOLVO    XC70 AWD     SUV - SMALL         3.0   \n",
       "1065        1065       2014  VOLVO    XC70 AWD     SUV - SMALL         3.2   \n",
       "1066        1066       2014  VOLVO    XC90 AWD  SUV - STANDARD         3.2   \n",
       "\n",
       "      CYLINDERS TRANSMISSION FUELTYPE  FUELCONSUMPTION_CITY  \\\n",
       "0           4.0          AS5        Z                   9.9   \n",
       "1           4.0           M6        Z                  11.2   \n",
       "2           4.0          AV7        Z                   6.0   \n",
       "3           6.0          AS6        Z                  12.7   \n",
       "4           6.0          AS6        Z                  12.1   \n",
       "...         ...          ...      ...                   ...   \n",
       "1062        6.0          AS6        X                  13.4   \n",
       "1063        6.0          AS6        X                  13.2   \n",
       "1064        6.0          AS6        X                  13.4   \n",
       "1065        6.0          AS6        X                  12.9   \n",
       "1066        6.0          AS6        X                  14.9   \n",
       "\n",
       "      FUELCONSUMPTION_HWY  FUELCONSUMPTION_COMB  FUELCONSUMPTION_COMB_MPG  \\\n",
       "0                     6.7                   8.5                        33   \n",
       "1                     7.7                   9.6                        29   \n",
       "2                     5.8                   5.9                        48   \n",
       "3                     9.1                  11.1                        25   \n",
       "4                     8.7                  10.6                        27   \n",
       "...                   ...                   ...                       ...   \n",
       "1062                  9.8                  11.8                        24   \n",
       "1063                  9.5                  11.5                        25   \n",
       "1064                  9.8                  11.8                        24   \n",
       "1065                  9.3                  11.3                        25   \n",
       "1066                 10.2                  12.8                        22   \n",
       "\n",
       "      CO2EMISSIONS  \n",
       "0            196.0  \n",
       "1            221.0  \n",
       "2            136.0  \n",
       "3              NaN  \n",
       "4            244.0  \n",
       "...            ...  \n",
       "1062         271.0  \n",
       "1063         264.0  \n",
       "1064         271.0  \n",
       "1065         260.0  \n",
       "1066         294.0  \n",
       "\n",
       "[1067 rows x 14 columns]"
      ]
     },
     "execution_count": 3,
     "metadata": {},
     "output_type": "execute_result"
    }
   ],
   "source": [
    "dataframe"
   ]
  },
  {
   "cell_type": "markdown",
   "id": "1d71ae4a",
   "metadata": {},
   "source": [
    "## دیتای بالا از فایلی که در داخل فولدر پروژه قرار دارد با هدف تمرین و سپس تست (پر کردن خانه های هدف به منظور تست) لود شده است"
   ]
  },
  {
   "cell_type": "code",
   "execution_count": 4,
   "id": "6b4ffb38",
   "metadata": {},
   "outputs": [
    {
     "data": {
      "text/html": [
       "<div>\n",
       "<style scoped>\n",
       "    .dataframe tbody tr th:only-of-type {\n",
       "        vertical-align: middle;\n",
       "    }\n",
       "\n",
       "    .dataframe tbody tr th {\n",
       "        vertical-align: top;\n",
       "    }\n",
       "\n",
       "    .dataframe thead th {\n",
       "        text-align: right;\n",
       "    }\n",
       "</style>\n",
       "<table border=\"1\" class=\"dataframe\">\n",
       "  <thead>\n",
       "    <tr style=\"text-align: right;\">\n",
       "      <th></th>\n",
       "      <th>Unnamed: 0</th>\n",
       "      <th>MODELYEAR</th>\n",
       "      <th>MAKE</th>\n",
       "      <th>MODEL</th>\n",
       "      <th>VEHICLECLASS</th>\n",
       "      <th>ENGINESIZE</th>\n",
       "      <th>CYLINDERS</th>\n",
       "      <th>TRANSMISSION</th>\n",
       "      <th>FUELTYPE</th>\n",
       "      <th>FUELCONSUMPTION_CITY</th>\n",
       "      <th>FUELCONSUMPTION_HWY</th>\n",
       "      <th>FUELCONSUMPTION_COMB</th>\n",
       "      <th>FUELCONSUMPTION_COMB_MPG</th>\n",
       "      <th>CO2EMISSIONS</th>\n",
       "    </tr>\n",
       "  </thead>\n",
       "  <tbody>\n",
       "    <tr>\n",
       "      <th>0</th>\n",
       "      <td>0</td>\n",
       "      <td>2014</td>\n",
       "      <td>ACURA</td>\n",
       "      <td>ILX</td>\n",
       "      <td>COMPACT</td>\n",
       "      <td>2.0</td>\n",
       "      <td>4.0</td>\n",
       "      <td>AS5</td>\n",
       "      <td>Z</td>\n",
       "      <td>9.9</td>\n",
       "      <td>6.7</td>\n",
       "      <td>8.5</td>\n",
       "      <td>33</td>\n",
       "      <td>196.0</td>\n",
       "    </tr>\n",
       "    <tr>\n",
       "      <th>1</th>\n",
       "      <td>1</td>\n",
       "      <td>2014</td>\n",
       "      <td>ACURA</td>\n",
       "      <td>ILX</td>\n",
       "      <td>COMPACT</td>\n",
       "      <td>2.4</td>\n",
       "      <td>4.0</td>\n",
       "      <td>M6</td>\n",
       "      <td>Z</td>\n",
       "      <td>11.2</td>\n",
       "      <td>7.7</td>\n",
       "      <td>9.6</td>\n",
       "      <td>29</td>\n",
       "      <td>221.0</td>\n",
       "    </tr>\n",
       "    <tr>\n",
       "      <th>2</th>\n",
       "      <td>2</td>\n",
       "      <td>2014</td>\n",
       "      <td>ACURA</td>\n",
       "      <td>ILX HYBRID</td>\n",
       "      <td>COMPACT</td>\n",
       "      <td>1.5</td>\n",
       "      <td>4.0</td>\n",
       "      <td>AV7</td>\n",
       "      <td>Z</td>\n",
       "      <td>6.0</td>\n",
       "      <td>5.8</td>\n",
       "      <td>5.9</td>\n",
       "      <td>48</td>\n",
       "      <td>136.0</td>\n",
       "    </tr>\n",
       "    <tr>\n",
       "      <th>3</th>\n",
       "      <td>3</td>\n",
       "      <td>2014</td>\n",
       "      <td>ACURA</td>\n",
       "      <td>MDX 4WD</td>\n",
       "      <td>SUV - SMALL</td>\n",
       "      <td>3.5</td>\n",
       "      <td>6.0</td>\n",
       "      <td>AS6</td>\n",
       "      <td>Z</td>\n",
       "      <td>12.7</td>\n",
       "      <td>9.1</td>\n",
       "      <td>11.1</td>\n",
       "      <td>25</td>\n",
       "      <td>NaN</td>\n",
       "    </tr>\n",
       "    <tr>\n",
       "      <th>4</th>\n",
       "      <td>4</td>\n",
       "      <td>2014</td>\n",
       "      <td>ACURA</td>\n",
       "      <td>RDX AWD</td>\n",
       "      <td>SUV - SMALL</td>\n",
       "      <td>3.5</td>\n",
       "      <td>6.0</td>\n",
       "      <td>AS6</td>\n",
       "      <td>Z</td>\n",
       "      <td>12.1</td>\n",
       "      <td>8.7</td>\n",
       "      <td>10.6</td>\n",
       "      <td>27</td>\n",
       "      <td>244.0</td>\n",
       "    </tr>\n",
       "  </tbody>\n",
       "</table>\n",
       "</div>"
      ],
      "text/plain": [
       "   Unnamed: 0  MODELYEAR   MAKE       MODEL VEHICLECLASS  ENGINESIZE  \\\n",
       "0           0       2014  ACURA         ILX      COMPACT         2.0   \n",
       "1           1       2014  ACURA         ILX      COMPACT         2.4   \n",
       "2           2       2014  ACURA  ILX HYBRID      COMPACT         1.5   \n",
       "3           3       2014  ACURA     MDX 4WD  SUV - SMALL         3.5   \n",
       "4           4       2014  ACURA     RDX AWD  SUV - SMALL         3.5   \n",
       "\n",
       "   CYLINDERS TRANSMISSION FUELTYPE  FUELCONSUMPTION_CITY  FUELCONSUMPTION_HWY  \\\n",
       "0        4.0          AS5        Z                   9.9                  6.7   \n",
       "1        4.0           M6        Z                  11.2                  7.7   \n",
       "2        4.0          AV7        Z                   6.0                  5.8   \n",
       "3        6.0          AS6        Z                  12.7                  9.1   \n",
       "4        6.0          AS6        Z                  12.1                  8.7   \n",
       "\n",
       "   FUELCONSUMPTION_COMB  FUELCONSUMPTION_COMB_MPG  CO2EMISSIONS  \n",
       "0                   8.5                        33         196.0  \n",
       "1                   9.6                        29         221.0  \n",
       "2                   5.9                        48         136.0  \n",
       "3                  11.1                        25           NaN  \n",
       "4                  10.6                        27         244.0  "
      ]
     },
     "execution_count": 4,
     "metadata": {},
     "output_type": "execute_result"
    }
   ],
   "source": [
    "dataframe.head()"
   ]
  },
  {
   "cell_type": "markdown",
   "id": "fbb56315",
   "metadata": {},
   "source": [
    "## این تابع مقادیر موجود در 5 سطر اول دیتافریم را نشان می دهد"
   ]
  },
  {
   "cell_type": "code",
   "execution_count": 5,
   "id": "2f0a4fdb",
   "metadata": {},
   "outputs": [
    {
     "data": {
      "text/html": [
       "<div>\n",
       "<style scoped>\n",
       "    .dataframe tbody tr th:only-of-type {\n",
       "        vertical-align: middle;\n",
       "    }\n",
       "\n",
       "    .dataframe tbody tr th {\n",
       "        vertical-align: top;\n",
       "    }\n",
       "\n",
       "    .dataframe thead th {\n",
       "        text-align: right;\n",
       "    }\n",
       "</style>\n",
       "<table border=\"1\" class=\"dataframe\">\n",
       "  <thead>\n",
       "    <tr style=\"text-align: right;\">\n",
       "      <th></th>\n",
       "      <th>Unnamed: 0</th>\n",
       "      <th>MODELYEAR</th>\n",
       "      <th>MAKE</th>\n",
       "      <th>MODEL</th>\n",
       "      <th>VEHICLECLASS</th>\n",
       "      <th>ENGINESIZE</th>\n",
       "      <th>CYLINDERS</th>\n",
       "      <th>TRANSMISSION</th>\n",
       "      <th>FUELTYPE</th>\n",
       "      <th>FUELCONSUMPTION_CITY</th>\n",
       "      <th>FUELCONSUMPTION_HWY</th>\n",
       "      <th>FUELCONSUMPTION_COMB</th>\n",
       "      <th>FUELCONSUMPTION_COMB_MPG</th>\n",
       "      <th>CO2EMISSIONS</th>\n",
       "    </tr>\n",
       "  </thead>\n",
       "  <tbody>\n",
       "    <tr>\n",
       "      <th>1062</th>\n",
       "      <td>1062</td>\n",
       "      <td>2014</td>\n",
       "      <td>VOLVO</td>\n",
       "      <td>XC60 AWD</td>\n",
       "      <td>SUV - SMALL</td>\n",
       "      <td>3.0</td>\n",
       "      <td>6.0</td>\n",
       "      <td>AS6</td>\n",
       "      <td>X</td>\n",
       "      <td>13.4</td>\n",
       "      <td>9.8</td>\n",
       "      <td>11.8</td>\n",
       "      <td>24</td>\n",
       "      <td>271.0</td>\n",
       "    </tr>\n",
       "    <tr>\n",
       "      <th>1063</th>\n",
       "      <td>1063</td>\n",
       "      <td>2014</td>\n",
       "      <td>VOLVO</td>\n",
       "      <td>XC60 AWD</td>\n",
       "      <td>SUV - SMALL</td>\n",
       "      <td>3.2</td>\n",
       "      <td>6.0</td>\n",
       "      <td>AS6</td>\n",
       "      <td>X</td>\n",
       "      <td>13.2</td>\n",
       "      <td>9.5</td>\n",
       "      <td>11.5</td>\n",
       "      <td>25</td>\n",
       "      <td>264.0</td>\n",
       "    </tr>\n",
       "    <tr>\n",
       "      <th>1064</th>\n",
       "      <td>1064</td>\n",
       "      <td>2014</td>\n",
       "      <td>VOLVO</td>\n",
       "      <td>XC70 AWD</td>\n",
       "      <td>SUV - SMALL</td>\n",
       "      <td>3.0</td>\n",
       "      <td>6.0</td>\n",
       "      <td>AS6</td>\n",
       "      <td>X</td>\n",
       "      <td>13.4</td>\n",
       "      <td>9.8</td>\n",
       "      <td>11.8</td>\n",
       "      <td>24</td>\n",
       "      <td>271.0</td>\n",
       "    </tr>\n",
       "    <tr>\n",
       "      <th>1065</th>\n",
       "      <td>1065</td>\n",
       "      <td>2014</td>\n",
       "      <td>VOLVO</td>\n",
       "      <td>XC70 AWD</td>\n",
       "      <td>SUV - SMALL</td>\n",
       "      <td>3.2</td>\n",
       "      <td>6.0</td>\n",
       "      <td>AS6</td>\n",
       "      <td>X</td>\n",
       "      <td>12.9</td>\n",
       "      <td>9.3</td>\n",
       "      <td>11.3</td>\n",
       "      <td>25</td>\n",
       "      <td>260.0</td>\n",
       "    </tr>\n",
       "    <tr>\n",
       "      <th>1066</th>\n",
       "      <td>1066</td>\n",
       "      <td>2014</td>\n",
       "      <td>VOLVO</td>\n",
       "      <td>XC90 AWD</td>\n",
       "      <td>SUV - STANDARD</td>\n",
       "      <td>3.2</td>\n",
       "      <td>6.0</td>\n",
       "      <td>AS6</td>\n",
       "      <td>X</td>\n",
       "      <td>14.9</td>\n",
       "      <td>10.2</td>\n",
       "      <td>12.8</td>\n",
       "      <td>22</td>\n",
       "      <td>294.0</td>\n",
       "    </tr>\n",
       "  </tbody>\n",
       "</table>\n",
       "</div>"
      ],
      "text/plain": [
       "      Unnamed: 0  MODELYEAR   MAKE     MODEL    VEHICLECLASS  ENGINESIZE  \\\n",
       "1062        1062       2014  VOLVO  XC60 AWD     SUV - SMALL         3.0   \n",
       "1063        1063       2014  VOLVO  XC60 AWD     SUV - SMALL         3.2   \n",
       "1064        1064       2014  VOLVO  XC70 AWD     SUV - SMALL         3.0   \n",
       "1065        1065       2014  VOLVO  XC70 AWD     SUV - SMALL         3.2   \n",
       "1066        1066       2014  VOLVO  XC90 AWD  SUV - STANDARD         3.2   \n",
       "\n",
       "      CYLINDERS TRANSMISSION FUELTYPE  FUELCONSUMPTION_CITY  \\\n",
       "1062        6.0          AS6        X                  13.4   \n",
       "1063        6.0          AS6        X                  13.2   \n",
       "1064        6.0          AS6        X                  13.4   \n",
       "1065        6.0          AS6        X                  12.9   \n",
       "1066        6.0          AS6        X                  14.9   \n",
       "\n",
       "      FUELCONSUMPTION_HWY  FUELCONSUMPTION_COMB  FUELCONSUMPTION_COMB_MPG  \\\n",
       "1062                  9.8                  11.8                        24   \n",
       "1063                  9.5                  11.5                        25   \n",
       "1064                  9.8                  11.8                        24   \n",
       "1065                  9.3                  11.3                        25   \n",
       "1066                 10.2                  12.8                        22   \n",
       "\n",
       "      CO2EMISSIONS  \n",
       "1062         271.0  \n",
       "1063         264.0  \n",
       "1064         271.0  \n",
       "1065         260.0  \n",
       "1066         294.0  "
      ]
     },
     "execution_count": 5,
     "metadata": {},
     "output_type": "execute_result"
    }
   ],
   "source": [
    "dataframe.tail()"
   ]
  },
  {
   "cell_type": "markdown",
   "id": "3a37b0c3",
   "metadata": {},
   "source": [
    "## این تابع مقادیر موجود در 5 سطر آخر دیتافریم را نشان می دهد"
   ]
  },
  {
   "cell_type": "code",
   "execution_count": 6,
   "id": "d2994fab",
   "metadata": {},
   "outputs": [
    {
     "data": {
      "text/html": [
       "<div>\n",
       "<style scoped>\n",
       "    .dataframe tbody tr th:only-of-type {\n",
       "        vertical-align: middle;\n",
       "    }\n",
       "\n",
       "    .dataframe tbody tr th {\n",
       "        vertical-align: top;\n",
       "    }\n",
       "\n",
       "    .dataframe thead th {\n",
       "        text-align: right;\n",
       "    }\n",
       "</style>\n",
       "<table border=\"1\" class=\"dataframe\">\n",
       "  <thead>\n",
       "    <tr style=\"text-align: right;\">\n",
       "      <th></th>\n",
       "      <th>Unnamed: 0</th>\n",
       "      <th>MODELYEAR</th>\n",
       "      <th>ENGINESIZE</th>\n",
       "      <th>CYLINDERS</th>\n",
       "      <th>FUELCONSUMPTION_CITY</th>\n",
       "      <th>FUELCONSUMPTION_HWY</th>\n",
       "      <th>FUELCONSUMPTION_COMB</th>\n",
       "      <th>FUELCONSUMPTION_COMB_MPG</th>\n",
       "      <th>CO2EMISSIONS</th>\n",
       "    </tr>\n",
       "  </thead>\n",
       "  <tbody>\n",
       "    <tr>\n",
       "      <th>count</th>\n",
       "      <td>1067.000000</td>\n",
       "      <td>1067.0</td>\n",
       "      <td>1040.000000</td>\n",
       "      <td>1033.000000</td>\n",
       "      <td>1067.000000</td>\n",
       "      <td>1067.000000</td>\n",
       "      <td>1067.000000</td>\n",
       "      <td>1067.000000</td>\n",
       "      <td>964.000000</td>\n",
       "    </tr>\n",
       "    <tr>\n",
       "      <th>mean</th>\n",
       "      <td>533.000000</td>\n",
       "      <td>2014.0</td>\n",
       "      <td>3.324038</td>\n",
       "      <td>5.797677</td>\n",
       "      <td>13.296532</td>\n",
       "      <td>9.474602</td>\n",
       "      <td>11.580881</td>\n",
       "      <td>26.441425</td>\n",
       "      <td>256.741701</td>\n",
       "    </tr>\n",
       "    <tr>\n",
       "      <th>std</th>\n",
       "      <td>308.160672</td>\n",
       "      <td>0.0</td>\n",
       "      <td>1.411400</td>\n",
       "      <td>1.807262</td>\n",
       "      <td>4.101253</td>\n",
       "      <td>2.794510</td>\n",
       "      <td>3.485595</td>\n",
       "      <td>7.468702</td>\n",
       "      <td>63.265308</td>\n",
       "    </tr>\n",
       "    <tr>\n",
       "      <th>min</th>\n",
       "      <td>0.000000</td>\n",
       "      <td>2014.0</td>\n",
       "      <td>1.000000</td>\n",
       "      <td>3.000000</td>\n",
       "      <td>4.600000</td>\n",
       "      <td>4.900000</td>\n",
       "      <td>4.700000</td>\n",
       "      <td>11.000000</td>\n",
       "      <td>108.000000</td>\n",
       "    </tr>\n",
       "    <tr>\n",
       "      <th>25%</th>\n",
       "      <td>266.500000</td>\n",
       "      <td>2014.0</td>\n",
       "      <td>2.000000</td>\n",
       "      <td>4.000000</td>\n",
       "      <td>10.250000</td>\n",
       "      <td>7.500000</td>\n",
       "      <td>9.000000</td>\n",
       "      <td>21.000000</td>\n",
       "      <td>209.000000</td>\n",
       "    </tr>\n",
       "    <tr>\n",
       "      <th>50%</th>\n",
       "      <td>533.000000</td>\n",
       "      <td>2014.0</td>\n",
       "      <td>3.300000</td>\n",
       "      <td>6.000000</td>\n",
       "      <td>12.600000</td>\n",
       "      <td>8.800000</td>\n",
       "      <td>10.900000</td>\n",
       "      <td>26.000000</td>\n",
       "      <td>251.000000</td>\n",
       "    </tr>\n",
       "    <tr>\n",
       "      <th>75%</th>\n",
       "      <td>799.500000</td>\n",
       "      <td>2014.0</td>\n",
       "      <td>4.200000</td>\n",
       "      <td>8.000000</td>\n",
       "      <td>15.550000</td>\n",
       "      <td>10.850000</td>\n",
       "      <td>13.350000</td>\n",
       "      <td>31.000000</td>\n",
       "      <td>294.000000</td>\n",
       "    </tr>\n",
       "    <tr>\n",
       "      <th>max</th>\n",
       "      <td>1066.000000</td>\n",
       "      <td>2014.0</td>\n",
       "      <td>8.400000</td>\n",
       "      <td>12.000000</td>\n",
       "      <td>30.200000</td>\n",
       "      <td>20.500000</td>\n",
       "      <td>25.800000</td>\n",
       "      <td>60.000000</td>\n",
       "      <td>437.000000</td>\n",
       "    </tr>\n",
       "  </tbody>\n",
       "</table>\n",
       "</div>"
      ],
      "text/plain": [
       "        Unnamed: 0  MODELYEAR   ENGINESIZE    CYLINDERS  FUELCONSUMPTION_CITY  \\\n",
       "count  1067.000000     1067.0  1040.000000  1033.000000           1067.000000   \n",
       "mean    533.000000     2014.0     3.324038     5.797677             13.296532   \n",
       "std     308.160672        0.0     1.411400     1.807262              4.101253   \n",
       "min       0.000000     2014.0     1.000000     3.000000              4.600000   \n",
       "25%     266.500000     2014.0     2.000000     4.000000             10.250000   \n",
       "50%     533.000000     2014.0     3.300000     6.000000             12.600000   \n",
       "75%     799.500000     2014.0     4.200000     8.000000             15.550000   \n",
       "max    1066.000000     2014.0     8.400000    12.000000             30.200000   \n",
       "\n",
       "       FUELCONSUMPTION_HWY  FUELCONSUMPTION_COMB  FUELCONSUMPTION_COMB_MPG  \\\n",
       "count          1067.000000           1067.000000               1067.000000   \n",
       "mean              9.474602             11.580881                 26.441425   \n",
       "std               2.794510              3.485595                  7.468702   \n",
       "min               4.900000              4.700000                 11.000000   \n",
       "25%               7.500000              9.000000                 21.000000   \n",
       "50%               8.800000             10.900000                 26.000000   \n",
       "75%              10.850000             13.350000                 31.000000   \n",
       "max              20.500000             25.800000                 60.000000   \n",
       "\n",
       "       CO2EMISSIONS  \n",
       "count    964.000000  \n",
       "mean     256.741701  \n",
       "std       63.265308  \n",
       "min      108.000000  \n",
       "25%      209.000000  \n",
       "50%      251.000000  \n",
       "75%      294.000000  \n",
       "max      437.000000  "
      ]
     },
     "execution_count": 6,
     "metadata": {},
     "output_type": "execute_result"
    }
   ],
   "source": [
    "dataframe.describe()"
   ]
  },
  {
   "cell_type": "markdown",
   "id": "fbf2734f",
   "metadata": {},
   "source": [
    "## این تابع میانگین ، انحراف معیار ، کمینه ، بیشینه ، چارک اول ، میانه و چارک سوم مقادیر هر ستون را نشان می دهد"
   ]
  },
  {
   "cell_type": "code",
   "execution_count": 7,
   "id": "4b30fe4c",
   "metadata": {},
   "outputs": [
    {
     "name": "stdout",
     "output_type": "stream",
     "text": [
      "<class 'pandas.core.frame.DataFrame'>\n",
      "RangeIndex: 1067 entries, 0 to 1066\n",
      "Data columns (total 14 columns):\n",
      " #   Column                    Non-Null Count  Dtype  \n",
      "---  ------                    --------------  -----  \n",
      " 0   Unnamed: 0                1067 non-null   int64  \n",
      " 1   MODELYEAR                 1067 non-null   int64  \n",
      " 2   MAKE                      1067 non-null   object \n",
      " 3   MODEL                     1058 non-null   object \n",
      " 4   VEHICLECLASS              1067 non-null   object \n",
      " 5   ENGINESIZE                1040 non-null   float64\n",
      " 6   CYLINDERS                 1033 non-null   float64\n",
      " 7   TRANSMISSION              1067 non-null   object \n",
      " 8   FUELTYPE                  996 non-null    object \n",
      " 9   FUELCONSUMPTION_CITY      1067 non-null   float64\n",
      " 10  FUELCONSUMPTION_HWY       1067 non-null   float64\n",
      " 11  FUELCONSUMPTION_COMB      1067 non-null   float64\n",
      " 12  FUELCONSUMPTION_COMB_MPG  1067 non-null   int64  \n",
      " 13  CO2EMISSIONS              964 non-null    float64\n",
      "dtypes: float64(6), int64(3), object(5)\n",
      "memory usage: 116.8+ KB\n"
     ]
    }
   ],
   "source": [
    "dataframe.info()"
   ]
  },
  {
   "cell_type": "markdown",
   "id": "9ab87715",
   "metadata": {},
   "source": [
    "## این تابع نوع داده های هر ستون و تعداد خانه های غیر خالی هرستون از دیتافریم را نشان می دهد"
   ]
  },
  {
   "cell_type": "code",
   "execution_count": 8,
   "id": "7cd949da",
   "metadata": {},
   "outputs": [
    {
     "data": {
      "text/html": [
       "<div>\n",
       "<style scoped>\n",
       "    .dataframe tbody tr th:only-of-type {\n",
       "        vertical-align: middle;\n",
       "    }\n",
       "\n",
       "    .dataframe tbody tr th {\n",
       "        vertical-align: top;\n",
       "    }\n",
       "\n",
       "    .dataframe thead th {\n",
       "        text-align: right;\n",
       "    }\n",
       "</style>\n",
       "<table border=\"1\" class=\"dataframe\">\n",
       "  <thead>\n",
       "    <tr style=\"text-align: right;\">\n",
       "      <th></th>\n",
       "      <th>Unnamed: 0</th>\n",
       "      <th>MODELYEAR</th>\n",
       "      <th>MAKE</th>\n",
       "      <th>MODEL</th>\n",
       "      <th>VEHICLECLASS</th>\n",
       "      <th>ENGINESIZE</th>\n",
       "      <th>CYLINDERS</th>\n",
       "      <th>TRANSMISSION</th>\n",
       "      <th>FUELTYPE</th>\n",
       "      <th>FUELCONSUMPTION_CITY</th>\n",
       "      <th>FUELCONSUMPTION_HWY</th>\n",
       "      <th>FUELCONSUMPTION_COMB</th>\n",
       "      <th>FUELCONSUMPTION_COMB_MPG</th>\n",
       "      <th>CO2EMISSIONS</th>\n",
       "    </tr>\n",
       "  </thead>\n",
       "  <tbody>\n",
       "    <tr>\n",
       "      <th>3</th>\n",
       "      <td>3</td>\n",
       "      <td>2014</td>\n",
       "      <td>ACURA</td>\n",
       "      <td>MDX 4WD</td>\n",
       "      <td>SUV - SMALL</td>\n",
       "      <td>3.5</td>\n",
       "      <td>6.0</td>\n",
       "      <td>AS6</td>\n",
       "      <td>Z</td>\n",
       "      <td>12.7</td>\n",
       "      <td>9.1</td>\n",
       "      <td>11.1</td>\n",
       "      <td>25</td>\n",
       "      <td>NaN</td>\n",
       "    </tr>\n",
       "    <tr>\n",
       "      <th>19</th>\n",
       "      <td>19</td>\n",
       "      <td>2014</td>\n",
       "      <td>AUDI</td>\n",
       "      <td>A4</td>\n",
       "      <td>COMPACT</td>\n",
       "      <td>2.0</td>\n",
       "      <td>4.0</td>\n",
       "      <td>AV8</td>\n",
       "      <td>NaN</td>\n",
       "      <td>9.9</td>\n",
       "      <td>7.4</td>\n",
       "      <td>8.8</td>\n",
       "      <td>32</td>\n",
       "      <td>202.0</td>\n",
       "    </tr>\n",
       "    <tr>\n",
       "      <th>20</th>\n",
       "      <td>20</td>\n",
       "      <td>2014</td>\n",
       "      <td>AUDI</td>\n",
       "      <td>A4 QUATTRO</td>\n",
       "      <td>COMPACT</td>\n",
       "      <td>2.0</td>\n",
       "      <td>4.0</td>\n",
       "      <td>AS8</td>\n",
       "      <td>Z</td>\n",
       "      <td>11.5</td>\n",
       "      <td>8.1</td>\n",
       "      <td>10.0</td>\n",
       "      <td>28</td>\n",
       "      <td>NaN</td>\n",
       "    </tr>\n",
       "    <tr>\n",
       "      <th>30</th>\n",
       "      <td>30</td>\n",
       "      <td>2014</td>\n",
       "      <td>AUDI</td>\n",
       "      <td>A8</td>\n",
       "      <td>MID-SIZE</td>\n",
       "      <td>3.0</td>\n",
       "      <td>6.0</td>\n",
       "      <td>AS8</td>\n",
       "      <td>NaN</td>\n",
       "      <td>13.1</td>\n",
       "      <td>8.8</td>\n",
       "      <td>11.2</td>\n",
       "      <td>25</td>\n",
       "      <td>NaN</td>\n",
       "    </tr>\n",
       "    <tr>\n",
       "      <th>39</th>\n",
       "      <td>39</td>\n",
       "      <td>2014</td>\n",
       "      <td>AUDI</td>\n",
       "      <td>Q5</td>\n",
       "      <td>SUV - SMALL</td>\n",
       "      <td>3.0</td>\n",
       "      <td>NaN</td>\n",
       "      <td>AS8</td>\n",
       "      <td>Z</td>\n",
       "      <td>12.9</td>\n",
       "      <td>9.2</td>\n",
       "      <td>11.2</td>\n",
       "      <td>25</td>\n",
       "      <td>258.0</td>\n",
       "    </tr>\n",
       "    <tr>\n",
       "      <th>...</th>\n",
       "      <td>...</td>\n",
       "      <td>...</td>\n",
       "      <td>...</td>\n",
       "      <td>...</td>\n",
       "      <td>...</td>\n",
       "      <td>...</td>\n",
       "      <td>...</td>\n",
       "      <td>...</td>\n",
       "      <td>...</td>\n",
       "      <td>...</td>\n",
       "      <td>...</td>\n",
       "      <td>...</td>\n",
       "      <td>...</td>\n",
       "      <td>...</td>\n",
       "    </tr>\n",
       "    <tr>\n",
       "      <th>1050</th>\n",
       "      <td>1050</td>\n",
       "      <td>2014</td>\n",
       "      <td>VOLKSWAGEN</td>\n",
       "      <td>ROUTAN</td>\n",
       "      <td>MINIVAN</td>\n",
       "      <td>3.6</td>\n",
       "      <td>NaN</td>\n",
       "      <td>A6</td>\n",
       "      <td>X</td>\n",
       "      <td>14.2</td>\n",
       "      <td>9.5</td>\n",
       "      <td>12.1</td>\n",
       "      <td>23</td>\n",
       "      <td>278.0</td>\n",
       "    </tr>\n",
       "    <tr>\n",
       "      <th>1051</th>\n",
       "      <td>1051</td>\n",
       "      <td>2014</td>\n",
       "      <td>VOLKSWAGEN</td>\n",
       "      <td>TIGUAN</td>\n",
       "      <td>SUV - SMALL</td>\n",
       "      <td>2.0</td>\n",
       "      <td>4.0</td>\n",
       "      <td>A6</td>\n",
       "      <td>Z</td>\n",
       "      <td>11.7</td>\n",
       "      <td>9.5</td>\n",
       "      <td>10.7</td>\n",
       "      <td>26</td>\n",
       "      <td>NaN</td>\n",
       "    </tr>\n",
       "    <tr>\n",
       "      <th>1052</th>\n",
       "      <td>1052</td>\n",
       "      <td>2014</td>\n",
       "      <td>VOLKSWAGEN</td>\n",
       "      <td>TIGUAN</td>\n",
       "      <td>SUV - SMALL</td>\n",
       "      <td>2.0</td>\n",
       "      <td>4.0</td>\n",
       "      <td>M6</td>\n",
       "      <td>Z</td>\n",
       "      <td>13.6</td>\n",
       "      <td>9.2</td>\n",
       "      <td>11.6</td>\n",
       "      <td>24</td>\n",
       "      <td>NaN</td>\n",
       "    </tr>\n",
       "    <tr>\n",
       "      <th>1053</th>\n",
       "      <td>1053</td>\n",
       "      <td>2014</td>\n",
       "      <td>VOLKSWAGEN</td>\n",
       "      <td>TIGUAN 4MOTION</td>\n",
       "      <td>SUV - SMALL</td>\n",
       "      <td>2.0</td>\n",
       "      <td>4.0</td>\n",
       "      <td>A6</td>\n",
       "      <td>Z</td>\n",
       "      <td>11.7</td>\n",
       "      <td>9.4</td>\n",
       "      <td>10.7</td>\n",
       "      <td>26</td>\n",
       "      <td>NaN</td>\n",
       "    </tr>\n",
       "    <tr>\n",
       "      <th>1057</th>\n",
       "      <td>1057</td>\n",
       "      <td>2014</td>\n",
       "      <td>VOLVO</td>\n",
       "      <td>S60 AWD</td>\n",
       "      <td>COMPACT</td>\n",
       "      <td>2.5</td>\n",
       "      <td>5.0</td>\n",
       "      <td>AS6</td>\n",
       "      <td>NaN</td>\n",
       "      <td>11.6</td>\n",
       "      <td>8.3</td>\n",
       "      <td>10.1</td>\n",
       "      <td>28</td>\n",
       "      <td>232.0</td>\n",
       "    </tr>\n",
       "  </tbody>\n",
       "</table>\n",
       "<p>227 rows × 14 columns</p>\n",
       "</div>"
      ],
      "text/plain": [
       "      Unnamed: 0  MODELYEAR        MAKE           MODEL VEHICLECLASS  \\\n",
       "3              3       2014       ACURA         MDX 4WD  SUV - SMALL   \n",
       "19            19       2014        AUDI              A4      COMPACT   \n",
       "20            20       2014        AUDI      A4 QUATTRO      COMPACT   \n",
       "30            30       2014        AUDI              A8     MID-SIZE   \n",
       "39            39       2014        AUDI              Q5  SUV - SMALL   \n",
       "...          ...        ...         ...             ...          ...   \n",
       "1050        1050       2014  VOLKSWAGEN          ROUTAN      MINIVAN   \n",
       "1051        1051       2014  VOLKSWAGEN          TIGUAN  SUV - SMALL   \n",
       "1052        1052       2014  VOLKSWAGEN          TIGUAN  SUV - SMALL   \n",
       "1053        1053       2014  VOLKSWAGEN  TIGUAN 4MOTION  SUV - SMALL   \n",
       "1057        1057       2014       VOLVO         S60 AWD      COMPACT   \n",
       "\n",
       "      ENGINESIZE  CYLINDERS TRANSMISSION FUELTYPE  FUELCONSUMPTION_CITY  \\\n",
       "3            3.5        6.0          AS6        Z                  12.7   \n",
       "19           2.0        4.0          AV8      NaN                   9.9   \n",
       "20           2.0        4.0          AS8        Z                  11.5   \n",
       "30           3.0        6.0          AS8      NaN                  13.1   \n",
       "39           3.0        NaN          AS8        Z                  12.9   \n",
       "...          ...        ...          ...      ...                   ...   \n",
       "1050         3.6        NaN           A6        X                  14.2   \n",
       "1051         2.0        4.0           A6        Z                  11.7   \n",
       "1052         2.0        4.0           M6        Z                  13.6   \n",
       "1053         2.0        4.0           A6        Z                  11.7   \n",
       "1057         2.5        5.0          AS6      NaN                  11.6   \n",
       "\n",
       "      FUELCONSUMPTION_HWY  FUELCONSUMPTION_COMB  FUELCONSUMPTION_COMB_MPG  \\\n",
       "3                     9.1                  11.1                        25   \n",
       "19                    7.4                   8.8                        32   \n",
       "20                    8.1                  10.0                        28   \n",
       "30                    8.8                  11.2                        25   \n",
       "39                    9.2                  11.2                        25   \n",
       "...                   ...                   ...                       ...   \n",
       "1050                  9.5                  12.1                        23   \n",
       "1051                  9.5                  10.7                        26   \n",
       "1052                  9.2                  11.6                        24   \n",
       "1053                  9.4                  10.7                        26   \n",
       "1057                  8.3                  10.1                        28   \n",
       "\n",
       "      CO2EMISSIONS  \n",
       "3              NaN  \n",
       "19           202.0  \n",
       "20             NaN  \n",
       "30             NaN  \n",
       "39           258.0  \n",
       "...            ...  \n",
       "1050         278.0  \n",
       "1051           NaN  \n",
       "1052           NaN  \n",
       "1053           NaN  \n",
       "1057         232.0  \n",
       "\n",
       "[227 rows x 14 columns]"
      ]
     },
     "execution_count": 8,
     "metadata": {},
     "output_type": "execute_result"
    }
   ],
   "source": [
    "dataframe[dataframe.isnull().any(axis = 1)]"
   ]
  },
  {
   "cell_type": "code",
   "execution_count": 9,
   "id": "53ba56f7",
   "metadata": {},
   "outputs": [
    {
     "data": {
      "text/plain": [
       "False    1058\n",
       "True        9\n",
       "Name: MODEL, dtype: int64"
      ]
     },
     "execution_count": 9,
     "metadata": {},
     "output_type": "execute_result"
    }
   ],
   "source": [
    "dataframe[\"MODEL\"].isna().value_counts()"
   ]
  },
  {
   "cell_type": "markdown",
   "id": "bab005d3",
   "metadata": {},
   "source": [
    "## با این کد تعداد خانه هایی که خالی هستند به دست می آید که در این مورد خاص ، 9 خانه خالی هستند"
   ]
  },
  {
   "cell_type": "code",
   "execution_count": 10,
   "id": "95378aaf",
   "metadata": {},
   "outputs": [],
   "source": [
    "dataframe[\"MODEL\"] = dataframe[\"MODEL\"].fillna(dataframe[\"MODEL\"].mode()[0])"
   ]
  },
  {
   "cell_type": "markdown",
   "id": "498250ac",
   "metadata": {},
   "source": [
    "## با این کد خانه های خالی ستون مدل ، با مد داده های این ستون جایگزین می شوند"
   ]
  },
  {
   "cell_type": "markdown",
   "id": "2597053a",
   "metadata": {},
   "source": [
    "## از معایب این کار ایجاد خطا در یادگیری به علت دور شدن از میانگین است(در داده های عددی)\n",
    "## از دیگر معایب این کار میتوان به جایگذاری داده های نامربوط و حتی گاهی در تناقض با داده های دیگر ستون ها اشاره کرد مانند همین مثال بالا که مدل یک ماشین خاص از شرکتی خاص به جای تمامی مدل های از دست رفته ، قرار داده می شود که ممکن است از شرکت های دیگر نیز باشند"
   ]
  },
  {
   "cell_type": "code",
   "execution_count": 11,
   "id": "c03cd9ae",
   "metadata": {},
   "outputs": [
    {
     "data": {
      "text/plain": [
       "False    1040\n",
       "True       27\n",
       "Name: ENGINESIZE, dtype: int64"
      ]
     },
     "execution_count": 11,
     "metadata": {},
     "output_type": "execute_result"
    }
   ],
   "source": [
    "dataframe[\"ENGINESIZE\"].isna().value_counts()"
   ]
  },
  {
   "cell_type": "code",
   "execution_count": 12,
   "id": "f814205d",
   "metadata": {},
   "outputs": [],
   "source": [
    "dataframe[\"ENGINESIZE\"] = dataframe[\"ENGINESIZE\"].fillna(dataframe[\"ENGINESIZE\"].mean())"
   ]
  },
  {
   "cell_type": "markdown",
   "id": "9bc43461",
   "metadata": {},
   "source": [
    "## با این کد خانه های خالی ستون سایز موتور ، با میانگین داده های این ستون جایگزین می شوند"
   ]
  },
  {
   "cell_type": "markdown",
   "id": "1b3959a7",
   "metadata": {},
   "source": [
    "## از معایب این کار ایجاد خطا در یادگیری در زمانی است که داده های پرت وجود داشته باشند و یا داده ها دارای توزیع نرمال نباشند\n",
    "## در غیر این صورت چون کمترین خطای ممکن را ایجاد میکند ، بهترین روش برای داده های عددی می باشد"
   ]
  },
  {
   "cell_type": "code",
   "execution_count": 13,
   "id": "80bf663a",
   "metadata": {},
   "outputs": [
    {
     "data": {
      "text/plain": [
       "False    1033\n",
       "True       34\n",
       "Name: CYLINDERS, dtype: int64"
      ]
     },
     "execution_count": 13,
     "metadata": {},
     "output_type": "execute_result"
    }
   ],
   "source": [
    "dataframe[\"CYLINDERS\"].isna().value_counts()"
   ]
  },
  {
   "cell_type": "code",
   "execution_count": 14,
   "id": "1f3ddb1f",
   "metadata": {},
   "outputs": [],
   "source": [
    "dataframe[\"CYLINDERS\"] = dataframe[\"CYLINDERS\"].fillna(dataframe[\"CYLINDERS\"].mean())"
   ]
  },
  {
   "cell_type": "code",
   "execution_count": 15,
   "id": "2a26e855",
   "metadata": {},
   "outputs": [
    {
     "data": {
      "text/plain": [
       "False    996\n",
       "True      71\n",
       "Name: FUELTYPE, dtype: int64"
      ]
     },
     "execution_count": 15,
     "metadata": {},
     "output_type": "execute_result"
    }
   ],
   "source": [
    "dataframe[\"FUELTYPE\"].isna().value_counts()"
   ]
  },
  {
   "cell_type": "code",
   "execution_count": 16,
   "id": "4fa9fc9a",
   "metadata": {},
   "outputs": [],
   "source": [
    "dataframe[\"FUELTYPE\"] = dataframe[\"FUELTYPE\"].fillna(dataframe[\"FUELTYPE\"].mode()[0])"
   ]
  },
  {
   "cell_type": "code",
   "execution_count": 17,
   "id": "b5855b65",
   "metadata": {},
   "outputs": [],
   "source": [
    "dataframe[\"MAKE\"] = dataframe[\"MAKE\"].astype('category')\n",
    "dataframe[\"MAKE\"] = dataframe[\"MAKE\"].cat.codes"
   ]
  },
  {
   "cell_type": "code",
   "execution_count": 18,
   "id": "0906aadd",
   "metadata": {},
   "outputs": [],
   "source": [
    "dataframe[\"MODEL\"] = dataframe[\"MODEL\"].astype('category')\n",
    "dataframe[\"MODEL\"] = dataframe[\"MODEL\"].cat.codes"
   ]
  },
  {
   "cell_type": "code",
   "execution_count": 19,
   "id": "89ece276",
   "metadata": {},
   "outputs": [],
   "source": [
    "dataframe[\"VEHICLECLASS\"] = dataframe[\"VEHICLECLASS\"].astype('category')\n",
    "dataframe[\"VEHICLECLASS\"] = dataframe[\"VEHICLECLASS\"].cat.codes"
   ]
  },
  {
   "cell_type": "code",
   "execution_count": 20,
   "id": "de8c7a2e",
   "metadata": {},
   "outputs": [],
   "source": [
    "dataframe[\"TRANSMISSION\"] = dataframe[\"TRANSMISSION\"].astype('category')\n",
    "dataframe[\"TRANSMISSION\"] = dataframe[\"TRANSMISSION\"].cat.codes"
   ]
  },
  {
   "cell_type": "code",
   "execution_count": 21,
   "id": "d546ea23",
   "metadata": {},
   "outputs": [],
   "source": [
    "dataframe[\"FUELTYPE\"] = dataframe[\"FUELTYPE\"].astype('category')\n",
    "dataframe[\"FUELTYPE\"] = dataframe[\"FUELTYPE\"].cat.codes"
   ]
  },
  {
   "cell_type": "markdown",
   "id": "f6f0abf3",
   "metadata": {},
   "source": [
    "## در کد بالا ، ابتدا داده های غیر عددی به حالت کتگوریکال در آمده و سپس از کد های کتگوریشان برای برچسب گذاری آن ها استفاده شده است"
   ]
  },
  {
   "cell_type": "code",
   "execution_count": 22,
   "id": "308f5da3",
   "metadata": {},
   "outputs": [
    {
     "name": "stdout",
     "output_type": "stream",
     "text": [
      "<class 'pandas.core.frame.DataFrame'>\n",
      "RangeIndex: 1067 entries, 0 to 1066\n",
      "Data columns (total 14 columns):\n",
      " #   Column                    Non-Null Count  Dtype  \n",
      "---  ------                    --------------  -----  \n",
      " 0   Unnamed: 0                1067 non-null   int64  \n",
      " 1   MODELYEAR                 1067 non-null   int64  \n",
      " 2   MAKE                      1067 non-null   int8   \n",
      " 3   MODEL                     1067 non-null   int16  \n",
      " 4   VEHICLECLASS              1067 non-null   int8   \n",
      " 5   ENGINESIZE                1067 non-null   float64\n",
      " 6   CYLINDERS                 1067 non-null   float64\n",
      " 7   TRANSMISSION              1067 non-null   int8   \n",
      " 8   FUELTYPE                  1067 non-null   int8   \n",
      " 9   FUELCONSUMPTION_CITY      1067 non-null   float64\n",
      " 10  FUELCONSUMPTION_HWY       1067 non-null   float64\n",
      " 11  FUELCONSUMPTION_COMB      1067 non-null   float64\n",
      " 12  FUELCONSUMPTION_COMB_MPG  1067 non-null   int64  \n",
      " 13  CO2EMISSIONS              964 non-null    float64\n",
      "dtypes: float64(6), int16(1), int64(3), int8(4)\n",
      "memory usage: 81.4 KB\n"
     ]
    }
   ],
   "source": [
    "dataframe.info()"
   ]
  },
  {
   "cell_type": "code",
   "execution_count": 23,
   "id": "7b59e384",
   "metadata": {},
   "outputs": [
    {
     "data": {
      "text/html": [
       "<div>\n",
       "<style scoped>\n",
       "    .dataframe tbody tr th:only-of-type {\n",
       "        vertical-align: middle;\n",
       "    }\n",
       "\n",
       "    .dataframe tbody tr th {\n",
       "        vertical-align: top;\n",
       "    }\n",
       "\n",
       "    .dataframe thead th {\n",
       "        text-align: right;\n",
       "    }\n",
       "</style>\n",
       "<table border=\"1\" class=\"dataframe\">\n",
       "  <thead>\n",
       "    <tr style=\"text-align: right;\">\n",
       "      <th></th>\n",
       "      <th>Unnamed: 0</th>\n",
       "      <th>MODELYEAR</th>\n",
       "      <th>MAKE</th>\n",
       "      <th>MODEL</th>\n",
       "      <th>VEHICLECLASS</th>\n",
       "      <th>ENGINESIZE</th>\n",
       "      <th>CYLINDERS</th>\n",
       "      <th>TRANSMISSION</th>\n",
       "      <th>FUELTYPE</th>\n",
       "      <th>FUELCONSUMPTION_CITY</th>\n",
       "      <th>FUELCONSUMPTION_HWY</th>\n",
       "      <th>FUELCONSUMPTION_COMB</th>\n",
       "      <th>FUELCONSUMPTION_COMB_MPG</th>\n",
       "      <th>CO2EMISSIONS</th>\n",
       "    </tr>\n",
       "  </thead>\n",
       "  <tbody>\n",
       "    <tr>\n",
       "      <th>0</th>\n",
       "      <td>0</td>\n",
       "      <td>2014</td>\n",
       "      <td>0</td>\n",
       "      <td>329</td>\n",
       "      <td>0</td>\n",
       "      <td>2.0</td>\n",
       "      <td>4.0</td>\n",
       "      <td>10</td>\n",
       "      <td>3</td>\n",
       "      <td>9.9</td>\n",
       "      <td>6.7</td>\n",
       "      <td>8.5</td>\n",
       "      <td>33</td>\n",
       "      <td>196.0</td>\n",
       "    </tr>\n",
       "    <tr>\n",
       "      <th>1</th>\n",
       "      <td>1</td>\n",
       "      <td>2014</td>\n",
       "      <td>0</td>\n",
       "      <td>329</td>\n",
       "      <td>0</td>\n",
       "      <td>2.4</td>\n",
       "      <td>4.0</td>\n",
       "      <td>20</td>\n",
       "      <td>3</td>\n",
       "      <td>11.2</td>\n",
       "      <td>7.7</td>\n",
       "      <td>9.6</td>\n",
       "      <td>29</td>\n",
       "      <td>221.0</td>\n",
       "    </tr>\n",
       "    <tr>\n",
       "      <th>2</th>\n",
       "      <td>2</td>\n",
       "      <td>2014</td>\n",
       "      <td>0</td>\n",
       "      <td>330</td>\n",
       "      <td>0</td>\n",
       "      <td>1.5</td>\n",
       "      <td>4.0</td>\n",
       "      <td>17</td>\n",
       "      <td>3</td>\n",
       "      <td>6.0</td>\n",
       "      <td>5.8</td>\n",
       "      <td>5.9</td>\n",
       "      <td>48</td>\n",
       "      <td>136.0</td>\n",
       "    </tr>\n",
       "    <tr>\n",
       "      <th>3</th>\n",
       "      <td>3</td>\n",
       "      <td>2014</td>\n",
       "      <td>0</td>\n",
       "      <td>389</td>\n",
       "      <td>11</td>\n",
       "      <td>3.5</td>\n",
       "      <td>6.0</td>\n",
       "      <td>11</td>\n",
       "      <td>3</td>\n",
       "      <td>12.7</td>\n",
       "      <td>9.1</td>\n",
       "      <td>11.1</td>\n",
       "      <td>25</td>\n",
       "      <td>NaN</td>\n",
       "    </tr>\n",
       "    <tr>\n",
       "      <th>4</th>\n",
       "      <td>4</td>\n",
       "      <td>2014</td>\n",
       "      <td>0</td>\n",
       "      <td>482</td>\n",
       "      <td>11</td>\n",
       "      <td>3.5</td>\n",
       "      <td>6.0</td>\n",
       "      <td>11</td>\n",
       "      <td>3</td>\n",
       "      <td>12.1</td>\n",
       "      <td>8.7</td>\n",
       "      <td>10.6</td>\n",
       "      <td>27</td>\n",
       "      <td>244.0</td>\n",
       "    </tr>\n",
       "    <tr>\n",
       "      <th>...</th>\n",
       "      <td>...</td>\n",
       "      <td>...</td>\n",
       "      <td>...</td>\n",
       "      <td>...</td>\n",
       "      <td>...</td>\n",
       "      <td>...</td>\n",
       "      <td>...</td>\n",
       "      <td>...</td>\n",
       "      <td>...</td>\n",
       "      <td>...</td>\n",
       "      <td>...</td>\n",
       "      <td>...</td>\n",
       "      <td>...</td>\n",
       "      <td>...</td>\n",
       "    </tr>\n",
       "    <tr>\n",
       "      <th>1062</th>\n",
       "      <td>1062</td>\n",
       "      <td>2014</td>\n",
       "      <td>38</td>\n",
       "      <td>623</td>\n",
       "      <td>11</td>\n",
       "      <td>3.0</td>\n",
       "      <td>6.0</td>\n",
       "      <td>11</td>\n",
       "      <td>2</td>\n",
       "      <td>13.4</td>\n",
       "      <td>9.8</td>\n",
       "      <td>11.8</td>\n",
       "      <td>24</td>\n",
       "      <td>271.0</td>\n",
       "    </tr>\n",
       "    <tr>\n",
       "      <th>1063</th>\n",
       "      <td>1063</td>\n",
       "      <td>2014</td>\n",
       "      <td>38</td>\n",
       "      <td>623</td>\n",
       "      <td>11</td>\n",
       "      <td>3.2</td>\n",
       "      <td>6.0</td>\n",
       "      <td>11</td>\n",
       "      <td>2</td>\n",
       "      <td>13.2</td>\n",
       "      <td>9.5</td>\n",
       "      <td>11.5</td>\n",
       "      <td>25</td>\n",
       "      <td>264.0</td>\n",
       "    </tr>\n",
       "    <tr>\n",
       "      <th>1064</th>\n",
       "      <td>1064</td>\n",
       "      <td>2014</td>\n",
       "      <td>38</td>\n",
       "      <td>624</td>\n",
       "      <td>11</td>\n",
       "      <td>3.0</td>\n",
       "      <td>6.0</td>\n",
       "      <td>11</td>\n",
       "      <td>2</td>\n",
       "      <td>13.4</td>\n",
       "      <td>9.8</td>\n",
       "      <td>11.8</td>\n",
       "      <td>24</td>\n",
       "      <td>271.0</td>\n",
       "    </tr>\n",
       "    <tr>\n",
       "      <th>1065</th>\n",
       "      <td>1065</td>\n",
       "      <td>2014</td>\n",
       "      <td>38</td>\n",
       "      <td>624</td>\n",
       "      <td>11</td>\n",
       "      <td>3.2</td>\n",
       "      <td>6.0</td>\n",
       "      <td>11</td>\n",
       "      <td>2</td>\n",
       "      <td>12.9</td>\n",
       "      <td>9.3</td>\n",
       "      <td>11.3</td>\n",
       "      <td>25</td>\n",
       "      <td>260.0</td>\n",
       "    </tr>\n",
       "    <tr>\n",
       "      <th>1066</th>\n",
       "      <td>1066</td>\n",
       "      <td>2014</td>\n",
       "      <td>38</td>\n",
       "      <td>625</td>\n",
       "      <td>12</td>\n",
       "      <td>3.2</td>\n",
       "      <td>6.0</td>\n",
       "      <td>11</td>\n",
       "      <td>2</td>\n",
       "      <td>14.9</td>\n",
       "      <td>10.2</td>\n",
       "      <td>12.8</td>\n",
       "      <td>22</td>\n",
       "      <td>294.0</td>\n",
       "    </tr>\n",
       "  </tbody>\n",
       "</table>\n",
       "<p>1067 rows × 14 columns</p>\n",
       "</div>"
      ],
      "text/plain": [
       "      Unnamed: 0  MODELYEAR  MAKE  MODEL  VEHICLECLASS  ENGINESIZE  CYLINDERS  \\\n",
       "0              0       2014     0    329             0         2.0        4.0   \n",
       "1              1       2014     0    329             0         2.4        4.0   \n",
       "2              2       2014     0    330             0         1.5        4.0   \n",
       "3              3       2014     0    389            11         3.5        6.0   \n",
       "4              4       2014     0    482            11         3.5        6.0   \n",
       "...          ...        ...   ...    ...           ...         ...        ...   \n",
       "1062        1062       2014    38    623            11         3.0        6.0   \n",
       "1063        1063       2014    38    623            11         3.2        6.0   \n",
       "1064        1064       2014    38    624            11         3.0        6.0   \n",
       "1065        1065       2014    38    624            11         3.2        6.0   \n",
       "1066        1066       2014    38    625            12         3.2        6.0   \n",
       "\n",
       "      TRANSMISSION  FUELTYPE  FUELCONSUMPTION_CITY  FUELCONSUMPTION_HWY  \\\n",
       "0               10         3                   9.9                  6.7   \n",
       "1               20         3                  11.2                  7.7   \n",
       "2               17         3                   6.0                  5.8   \n",
       "3               11         3                  12.7                  9.1   \n",
       "4               11         3                  12.1                  8.7   \n",
       "...            ...       ...                   ...                  ...   \n",
       "1062            11         2                  13.4                  9.8   \n",
       "1063            11         2                  13.2                  9.5   \n",
       "1064            11         2                  13.4                  9.8   \n",
       "1065            11         2                  12.9                  9.3   \n",
       "1066            11         2                  14.9                 10.2   \n",
       "\n",
       "      FUELCONSUMPTION_COMB  FUELCONSUMPTION_COMB_MPG  CO2EMISSIONS  \n",
       "0                      8.5                        33         196.0  \n",
       "1                      9.6                        29         221.0  \n",
       "2                      5.9                        48         136.0  \n",
       "3                     11.1                        25           NaN  \n",
       "4                     10.6                        27         244.0  \n",
       "...                    ...                       ...           ...  \n",
       "1062                  11.8                        24         271.0  \n",
       "1063                  11.5                        25         264.0  \n",
       "1064                  11.8                        24         271.0  \n",
       "1065                  11.3                        25         260.0  \n",
       "1066                  12.8                        22         294.0  \n",
       "\n",
       "[1067 rows x 14 columns]"
      ]
     },
     "execution_count": 23,
     "metadata": {},
     "output_type": "execute_result"
    }
   ],
   "source": [
    "dataframe"
   ]
  },
  {
   "cell_type": "markdown",
   "id": "e82e8bdf",
   "metadata": {},
   "source": [
    "## با توجه به جداول بالا ، واضح است که خانه های خالی دیتافریم (به جز خانه های هدف) به درستی پرشده اند و داده های دسته ای برچسب گذاری شده اند"
   ]
  },
  {
   "cell_type": "code",
   "execution_count": 24,
   "id": "0da6f707",
   "metadata": {},
   "outputs": [],
   "source": [
    "test_dataframe = dataframe[dataframe.isnull().any(axis = 1)]"
   ]
  },
  {
   "cell_type": "code",
   "execution_count": 25,
   "id": "3c3dd4c3",
   "metadata": {},
   "outputs": [],
   "source": [
    "dataframe = dataframe.dropna().copy()"
   ]
  },
  {
   "cell_type": "code",
   "execution_count": 26,
   "id": "e209adca",
   "metadata": {},
   "outputs": [
    {
     "data": {
      "text/html": [
       "<div>\n",
       "<style scoped>\n",
       "    .dataframe tbody tr th:only-of-type {\n",
       "        vertical-align: middle;\n",
       "    }\n",
       "\n",
       "    .dataframe tbody tr th {\n",
       "        vertical-align: top;\n",
       "    }\n",
       "\n",
       "    .dataframe thead th {\n",
       "        text-align: right;\n",
       "    }\n",
       "</style>\n",
       "<table border=\"1\" class=\"dataframe\">\n",
       "  <thead>\n",
       "    <tr style=\"text-align: right;\">\n",
       "      <th></th>\n",
       "      <th>Unnamed: 0</th>\n",
       "      <th>MODELYEAR</th>\n",
       "      <th>MAKE</th>\n",
       "      <th>MODEL</th>\n",
       "      <th>VEHICLECLASS</th>\n",
       "      <th>ENGINESIZE</th>\n",
       "      <th>CYLINDERS</th>\n",
       "      <th>TRANSMISSION</th>\n",
       "      <th>FUELTYPE</th>\n",
       "      <th>FUELCONSUMPTION_CITY</th>\n",
       "      <th>FUELCONSUMPTION_HWY</th>\n",
       "      <th>FUELCONSUMPTION_COMB</th>\n",
       "      <th>FUELCONSUMPTION_COMB_MPG</th>\n",
       "      <th>CO2EMISSIONS</th>\n",
       "    </tr>\n",
       "  </thead>\n",
       "  <tbody>\n",
       "    <tr>\n",
       "      <th>0</th>\n",
       "      <td>0</td>\n",
       "      <td>2014</td>\n",
       "      <td>0</td>\n",
       "      <td>329</td>\n",
       "      <td>0</td>\n",
       "      <td>2.0</td>\n",
       "      <td>4.0</td>\n",
       "      <td>10</td>\n",
       "      <td>3</td>\n",
       "      <td>9.9</td>\n",
       "      <td>6.7</td>\n",
       "      <td>8.5</td>\n",
       "      <td>33</td>\n",
       "      <td>196.0</td>\n",
       "    </tr>\n",
       "    <tr>\n",
       "      <th>1</th>\n",
       "      <td>1</td>\n",
       "      <td>2014</td>\n",
       "      <td>0</td>\n",
       "      <td>329</td>\n",
       "      <td>0</td>\n",
       "      <td>2.4</td>\n",
       "      <td>4.0</td>\n",
       "      <td>20</td>\n",
       "      <td>3</td>\n",
       "      <td>11.2</td>\n",
       "      <td>7.7</td>\n",
       "      <td>9.6</td>\n",
       "      <td>29</td>\n",
       "      <td>221.0</td>\n",
       "    </tr>\n",
       "    <tr>\n",
       "      <th>2</th>\n",
       "      <td>2</td>\n",
       "      <td>2014</td>\n",
       "      <td>0</td>\n",
       "      <td>330</td>\n",
       "      <td>0</td>\n",
       "      <td>1.5</td>\n",
       "      <td>4.0</td>\n",
       "      <td>17</td>\n",
       "      <td>3</td>\n",
       "      <td>6.0</td>\n",
       "      <td>5.8</td>\n",
       "      <td>5.9</td>\n",
       "      <td>48</td>\n",
       "      <td>136.0</td>\n",
       "    </tr>\n",
       "    <tr>\n",
       "      <th>4</th>\n",
       "      <td>4</td>\n",
       "      <td>2014</td>\n",
       "      <td>0</td>\n",
       "      <td>482</td>\n",
       "      <td>11</td>\n",
       "      <td>3.5</td>\n",
       "      <td>6.0</td>\n",
       "      <td>11</td>\n",
       "      <td>3</td>\n",
       "      <td>12.1</td>\n",
       "      <td>8.7</td>\n",
       "      <td>10.6</td>\n",
       "      <td>27</td>\n",
       "      <td>244.0</td>\n",
       "    </tr>\n",
       "    <tr>\n",
       "      <th>5</th>\n",
       "      <td>5</td>\n",
       "      <td>2014</td>\n",
       "      <td>0</td>\n",
       "      <td>489</td>\n",
       "      <td>2</td>\n",
       "      <td>3.5</td>\n",
       "      <td>6.0</td>\n",
       "      <td>11</td>\n",
       "      <td>3</td>\n",
       "      <td>11.9</td>\n",
       "      <td>7.7</td>\n",
       "      <td>10.0</td>\n",
       "      <td>28</td>\n",
       "      <td>230.0</td>\n",
       "    </tr>\n",
       "    <tr>\n",
       "      <th>...</th>\n",
       "      <td>...</td>\n",
       "      <td>...</td>\n",
       "      <td>...</td>\n",
       "      <td>...</td>\n",
       "      <td>...</td>\n",
       "      <td>...</td>\n",
       "      <td>...</td>\n",
       "      <td>...</td>\n",
       "      <td>...</td>\n",
       "      <td>...</td>\n",
       "      <td>...</td>\n",
       "      <td>...</td>\n",
       "      <td>...</td>\n",
       "      <td>...</td>\n",
       "    </tr>\n",
       "    <tr>\n",
       "      <th>1062</th>\n",
       "      <td>1062</td>\n",
       "      <td>2014</td>\n",
       "      <td>38</td>\n",
       "      <td>623</td>\n",
       "      <td>11</td>\n",
       "      <td>3.0</td>\n",
       "      <td>6.0</td>\n",
       "      <td>11</td>\n",
       "      <td>2</td>\n",
       "      <td>13.4</td>\n",
       "      <td>9.8</td>\n",
       "      <td>11.8</td>\n",
       "      <td>24</td>\n",
       "      <td>271.0</td>\n",
       "    </tr>\n",
       "    <tr>\n",
       "      <th>1063</th>\n",
       "      <td>1063</td>\n",
       "      <td>2014</td>\n",
       "      <td>38</td>\n",
       "      <td>623</td>\n",
       "      <td>11</td>\n",
       "      <td>3.2</td>\n",
       "      <td>6.0</td>\n",
       "      <td>11</td>\n",
       "      <td>2</td>\n",
       "      <td>13.2</td>\n",
       "      <td>9.5</td>\n",
       "      <td>11.5</td>\n",
       "      <td>25</td>\n",
       "      <td>264.0</td>\n",
       "    </tr>\n",
       "    <tr>\n",
       "      <th>1064</th>\n",
       "      <td>1064</td>\n",
       "      <td>2014</td>\n",
       "      <td>38</td>\n",
       "      <td>624</td>\n",
       "      <td>11</td>\n",
       "      <td>3.0</td>\n",
       "      <td>6.0</td>\n",
       "      <td>11</td>\n",
       "      <td>2</td>\n",
       "      <td>13.4</td>\n",
       "      <td>9.8</td>\n",
       "      <td>11.8</td>\n",
       "      <td>24</td>\n",
       "      <td>271.0</td>\n",
       "    </tr>\n",
       "    <tr>\n",
       "      <th>1065</th>\n",
       "      <td>1065</td>\n",
       "      <td>2014</td>\n",
       "      <td>38</td>\n",
       "      <td>624</td>\n",
       "      <td>11</td>\n",
       "      <td>3.2</td>\n",
       "      <td>6.0</td>\n",
       "      <td>11</td>\n",
       "      <td>2</td>\n",
       "      <td>12.9</td>\n",
       "      <td>9.3</td>\n",
       "      <td>11.3</td>\n",
       "      <td>25</td>\n",
       "      <td>260.0</td>\n",
       "    </tr>\n",
       "    <tr>\n",
       "      <th>1066</th>\n",
       "      <td>1066</td>\n",
       "      <td>2014</td>\n",
       "      <td>38</td>\n",
       "      <td>625</td>\n",
       "      <td>12</td>\n",
       "      <td>3.2</td>\n",
       "      <td>6.0</td>\n",
       "      <td>11</td>\n",
       "      <td>2</td>\n",
       "      <td>14.9</td>\n",
       "      <td>10.2</td>\n",
       "      <td>12.8</td>\n",
       "      <td>22</td>\n",
       "      <td>294.0</td>\n",
       "    </tr>\n",
       "  </tbody>\n",
       "</table>\n",
       "<p>964 rows × 14 columns</p>\n",
       "</div>"
      ],
      "text/plain": [
       "      Unnamed: 0  MODELYEAR  MAKE  MODEL  VEHICLECLASS  ENGINESIZE  CYLINDERS  \\\n",
       "0              0       2014     0    329             0         2.0        4.0   \n",
       "1              1       2014     0    329             0         2.4        4.0   \n",
       "2              2       2014     0    330             0         1.5        4.0   \n",
       "4              4       2014     0    482            11         3.5        6.0   \n",
       "5              5       2014     0    489             2         3.5        6.0   \n",
       "...          ...        ...   ...    ...           ...         ...        ...   \n",
       "1062        1062       2014    38    623            11         3.0        6.0   \n",
       "1063        1063       2014    38    623            11         3.2        6.0   \n",
       "1064        1064       2014    38    624            11         3.0        6.0   \n",
       "1065        1065       2014    38    624            11         3.2        6.0   \n",
       "1066        1066       2014    38    625            12         3.2        6.0   \n",
       "\n",
       "      TRANSMISSION  FUELTYPE  FUELCONSUMPTION_CITY  FUELCONSUMPTION_HWY  \\\n",
       "0               10         3                   9.9                  6.7   \n",
       "1               20         3                  11.2                  7.7   \n",
       "2               17         3                   6.0                  5.8   \n",
       "4               11         3                  12.1                  8.7   \n",
       "5               11         3                  11.9                  7.7   \n",
       "...            ...       ...                   ...                  ...   \n",
       "1062            11         2                  13.4                  9.8   \n",
       "1063            11         2                  13.2                  9.5   \n",
       "1064            11         2                  13.4                  9.8   \n",
       "1065            11         2                  12.9                  9.3   \n",
       "1066            11         2                  14.9                 10.2   \n",
       "\n",
       "      FUELCONSUMPTION_COMB  FUELCONSUMPTION_COMB_MPG  CO2EMISSIONS  \n",
       "0                      8.5                        33         196.0  \n",
       "1                      9.6                        29         221.0  \n",
       "2                      5.9                        48         136.0  \n",
       "4                     10.6                        27         244.0  \n",
       "5                     10.0                        28         230.0  \n",
       "...                    ...                       ...           ...  \n",
       "1062                  11.8                        24         271.0  \n",
       "1063                  11.5                        25         264.0  \n",
       "1064                  11.8                        24         271.0  \n",
       "1065                  11.3                        25         260.0  \n",
       "1066                  12.8                        22         294.0  \n",
       "\n",
       "[964 rows x 14 columns]"
      ]
     },
     "execution_count": 26,
     "metadata": {},
     "output_type": "execute_result"
    }
   ],
   "source": [
    "dataframe"
   ]
  },
  {
   "cell_type": "code",
   "execution_count": 27,
   "id": "9a641e55",
   "metadata": {},
   "outputs": [
    {
     "data": {
      "text/html": [
       "<div>\n",
       "<style scoped>\n",
       "    .dataframe tbody tr th:only-of-type {\n",
       "        vertical-align: middle;\n",
       "    }\n",
       "\n",
       "    .dataframe tbody tr th {\n",
       "        vertical-align: top;\n",
       "    }\n",
       "\n",
       "    .dataframe thead th {\n",
       "        text-align: right;\n",
       "    }\n",
       "</style>\n",
       "<table border=\"1\" class=\"dataframe\">\n",
       "  <thead>\n",
       "    <tr style=\"text-align: right;\">\n",
       "      <th></th>\n",
       "      <th>Unnamed: 0</th>\n",
       "      <th>MODELYEAR</th>\n",
       "      <th>MAKE</th>\n",
       "      <th>MODEL</th>\n",
       "      <th>VEHICLECLASS</th>\n",
       "      <th>ENGINESIZE</th>\n",
       "      <th>CYLINDERS</th>\n",
       "      <th>TRANSMISSION</th>\n",
       "      <th>FUELTYPE</th>\n",
       "      <th>FUELCONSUMPTION_CITY</th>\n",
       "      <th>FUELCONSUMPTION_HWY</th>\n",
       "      <th>FUELCONSUMPTION_COMB</th>\n",
       "      <th>FUELCONSUMPTION_COMB_MPG</th>\n",
       "      <th>CO2EMISSIONS</th>\n",
       "    </tr>\n",
       "  </thead>\n",
       "  <tbody>\n",
       "    <tr>\n",
       "      <th>3</th>\n",
       "      <td>3</td>\n",
       "      <td>2014</td>\n",
       "      <td>0</td>\n",
       "      <td>389</td>\n",
       "      <td>11</td>\n",
       "      <td>3.5</td>\n",
       "      <td>6.000000</td>\n",
       "      <td>11</td>\n",
       "      <td>3</td>\n",
       "      <td>12.7</td>\n",
       "      <td>9.1</td>\n",
       "      <td>11.1</td>\n",
       "      <td>25</td>\n",
       "      <td>NaN</td>\n",
       "    </tr>\n",
       "    <tr>\n",
       "      <th>20</th>\n",
       "      <td>20</td>\n",
       "      <td>2014</td>\n",
       "      <td>2</td>\n",
       "      <td>73</td>\n",
       "      <td>0</td>\n",
       "      <td>2.0</td>\n",
       "      <td>4.000000</td>\n",
       "      <td>13</td>\n",
       "      <td>3</td>\n",
       "      <td>11.5</td>\n",
       "      <td>8.1</td>\n",
       "      <td>10.0</td>\n",
       "      <td>28</td>\n",
       "      <td>NaN</td>\n",
       "    </tr>\n",
       "    <tr>\n",
       "      <th>30</th>\n",
       "      <td>30</td>\n",
       "      <td>2014</td>\n",
       "      <td>2</td>\n",
       "      <td>80</td>\n",
       "      <td>2</td>\n",
       "      <td>3.0</td>\n",
       "      <td>6.000000</td>\n",
       "      <td>13</td>\n",
       "      <td>2</td>\n",
       "      <td>13.1</td>\n",
       "      <td>8.8</td>\n",
       "      <td>11.2</td>\n",
       "      <td>25</td>\n",
       "      <td>NaN</td>\n",
       "    </tr>\n",
       "    <tr>\n",
       "      <th>42</th>\n",
       "      <td>42</td>\n",
       "      <td>2014</td>\n",
       "      <td>2</td>\n",
       "      <td>450</td>\n",
       "      <td>12</td>\n",
       "      <td>3.0</td>\n",
       "      <td>5.797677</td>\n",
       "      <td>13</td>\n",
       "      <td>3</td>\n",
       "      <td>15.1</td>\n",
       "      <td>10.9</td>\n",
       "      <td>13.2</td>\n",
       "      <td>21</td>\n",
       "      <td>NaN</td>\n",
       "    </tr>\n",
       "    <tr>\n",
       "      <th>43</th>\n",
       "      <td>43</td>\n",
       "      <td>2014</td>\n",
       "      <td>2</td>\n",
       "      <td>451</td>\n",
       "      <td>12</td>\n",
       "      <td>3.0</td>\n",
       "      <td>6.000000</td>\n",
       "      <td>13</td>\n",
       "      <td>0</td>\n",
       "      <td>12.9</td>\n",
       "      <td>8.4</td>\n",
       "      <td>10.9</td>\n",
       "      <td>26</td>\n",
       "      <td>NaN</td>\n",
       "    </tr>\n",
       "    <tr>\n",
       "      <th>...</th>\n",
       "      <td>...</td>\n",
       "      <td>...</td>\n",
       "      <td>...</td>\n",
       "      <td>...</td>\n",
       "      <td>...</td>\n",
       "      <td>...</td>\n",
       "      <td>...</td>\n",
       "      <td>...</td>\n",
       "      <td>...</td>\n",
       "      <td>...</td>\n",
       "      <td>...</td>\n",
       "      <td>...</td>\n",
       "      <td>...</td>\n",
       "      <td>...</td>\n",
       "    </tr>\n",
       "    <tr>\n",
       "      <th>1022</th>\n",
       "      <td>1022</td>\n",
       "      <td>2014</td>\n",
       "      <td>37</td>\n",
       "      <td>105</td>\n",
       "      <td>10</td>\n",
       "      <td>2.0</td>\n",
       "      <td>4.000000</td>\n",
       "      <td>20</td>\n",
       "      <td>3</td>\n",
       "      <td>10.8</td>\n",
       "      <td>7.6</td>\n",
       "      <td>9.4</td>\n",
       "      <td>30</td>\n",
       "      <td>NaN</td>\n",
       "    </tr>\n",
       "    <tr>\n",
       "      <th>1027</th>\n",
       "      <td>1027</td>\n",
       "      <td>2014</td>\n",
       "      <td>37</td>\n",
       "      <td>137</td>\n",
       "      <td>0</td>\n",
       "      <td>2.0</td>\n",
       "      <td>4.000000</td>\n",
       "      <td>20</td>\n",
       "      <td>3</td>\n",
       "      <td>11.6</td>\n",
       "      <td>7.7</td>\n",
       "      <td>9.8</td>\n",
       "      <td>29</td>\n",
       "      <td>NaN</td>\n",
       "    </tr>\n",
       "    <tr>\n",
       "      <th>1051</th>\n",
       "      <td>1051</td>\n",
       "      <td>2014</td>\n",
       "      <td>37</td>\n",
       "      <td>573</td>\n",
       "      <td>11</td>\n",
       "      <td>2.0</td>\n",
       "      <td>4.000000</td>\n",
       "      <td>2</td>\n",
       "      <td>3</td>\n",
       "      <td>11.7</td>\n",
       "      <td>9.5</td>\n",
       "      <td>10.7</td>\n",
       "      <td>26</td>\n",
       "      <td>NaN</td>\n",
       "    </tr>\n",
       "    <tr>\n",
       "      <th>1052</th>\n",
       "      <td>1052</td>\n",
       "      <td>2014</td>\n",
       "      <td>37</td>\n",
       "      <td>573</td>\n",
       "      <td>11</td>\n",
       "      <td>2.0</td>\n",
       "      <td>4.000000</td>\n",
       "      <td>20</td>\n",
       "      <td>3</td>\n",
       "      <td>13.6</td>\n",
       "      <td>9.2</td>\n",
       "      <td>11.6</td>\n",
       "      <td>24</td>\n",
       "      <td>NaN</td>\n",
       "    </tr>\n",
       "    <tr>\n",
       "      <th>1053</th>\n",
       "      <td>1053</td>\n",
       "      <td>2014</td>\n",
       "      <td>37</td>\n",
       "      <td>574</td>\n",
       "      <td>11</td>\n",
       "      <td>2.0</td>\n",
       "      <td>4.000000</td>\n",
       "      <td>2</td>\n",
       "      <td>3</td>\n",
       "      <td>11.7</td>\n",
       "      <td>9.4</td>\n",
       "      <td>10.7</td>\n",
       "      <td>26</td>\n",
       "      <td>NaN</td>\n",
       "    </tr>\n",
       "  </tbody>\n",
       "</table>\n",
       "<p>103 rows × 14 columns</p>\n",
       "</div>"
      ],
      "text/plain": [
       "      Unnamed: 0  MODELYEAR  MAKE  MODEL  VEHICLECLASS  ENGINESIZE  CYLINDERS  \\\n",
       "3              3       2014     0    389            11         3.5   6.000000   \n",
       "20            20       2014     2     73             0         2.0   4.000000   \n",
       "30            30       2014     2     80             2         3.0   6.000000   \n",
       "42            42       2014     2    450            12         3.0   5.797677   \n",
       "43            43       2014     2    451            12         3.0   6.000000   \n",
       "...          ...        ...   ...    ...           ...         ...        ...   \n",
       "1022        1022       2014    37    105            10         2.0   4.000000   \n",
       "1027        1027       2014    37    137             0         2.0   4.000000   \n",
       "1051        1051       2014    37    573            11         2.0   4.000000   \n",
       "1052        1052       2014    37    573            11         2.0   4.000000   \n",
       "1053        1053       2014    37    574            11         2.0   4.000000   \n",
       "\n",
       "      TRANSMISSION  FUELTYPE  FUELCONSUMPTION_CITY  FUELCONSUMPTION_HWY  \\\n",
       "3               11         3                  12.7                  9.1   \n",
       "20              13         3                  11.5                  8.1   \n",
       "30              13         2                  13.1                  8.8   \n",
       "42              13         3                  15.1                 10.9   \n",
       "43              13         0                  12.9                  8.4   \n",
       "...            ...       ...                   ...                  ...   \n",
       "1022            20         3                  10.8                  7.6   \n",
       "1027            20         3                  11.6                  7.7   \n",
       "1051             2         3                  11.7                  9.5   \n",
       "1052            20         3                  13.6                  9.2   \n",
       "1053             2         3                  11.7                  9.4   \n",
       "\n",
       "      FUELCONSUMPTION_COMB  FUELCONSUMPTION_COMB_MPG  CO2EMISSIONS  \n",
       "3                     11.1                        25           NaN  \n",
       "20                    10.0                        28           NaN  \n",
       "30                    11.2                        25           NaN  \n",
       "42                    13.2                        21           NaN  \n",
       "43                    10.9                        26           NaN  \n",
       "...                    ...                       ...           ...  \n",
       "1022                   9.4                        30           NaN  \n",
       "1027                   9.8                        29           NaN  \n",
       "1051                  10.7                        26           NaN  \n",
       "1052                  11.6                        24           NaN  \n",
       "1053                  10.7                        26           NaN  \n",
       "\n",
       "[103 rows x 14 columns]"
      ]
     },
     "execution_count": 27,
     "metadata": {},
     "output_type": "execute_result"
    }
   ],
   "source": [
    "test_dataframe"
   ]
  },
  {
   "cell_type": "markdown",
   "id": "e013651d",
   "metadata": {},
   "source": [
    "## سطر هایی که مقدار ستون هدف آنها خالی است به درستی از دیتافریم اصلی جدا شده اند"
   ]
  },
  {
   "cell_type": "code",
   "execution_count": 28,
   "id": "dbb44a22",
   "metadata": {},
   "outputs": [],
   "source": [
    "first_time_start = time.time()\n",
    "under240 = dataframe[dataframe[\"CO2EMISSIONS\"] < 240][\"FUELCONSUMPTION_CITY\"].mean()\n",
    "up300 = dataframe[dataframe[\"CO2EMISSIONS\"] > 300][\"FUELCONSUMPTION_CITY\"].mean()\n",
    "first_time_end = time.time()"
   ]
  },
  {
   "cell_type": "code",
   "execution_count": 29,
   "id": "d7570f4d",
   "metadata": {},
   "outputs": [
    {
     "data": {
      "text/plain": [
       "10.03781902552204"
      ]
     },
     "execution_count": 29,
     "metadata": {},
     "output_type": "execute_result"
    }
   ],
   "source": [
    "under240"
   ]
  },
  {
   "cell_type": "markdown",
   "id": "bc57e52d",
   "metadata": {},
   "source": [
    "## میانگین مصرف سوخت در شهر برای ماشین هایی که میزان کربن دی اکسید تولیدیشان کمتر از 240 است"
   ]
  },
  {
   "cell_type": "code",
   "execution_count": 30,
   "id": "cb79884d",
   "metadata": {},
   "outputs": [
    {
     "data": {
      "text/plain": [
       "18.663255813953487"
      ]
     },
     "execution_count": 30,
     "metadata": {},
     "output_type": "execute_result"
    }
   ],
   "source": [
    "up300"
   ]
  },
  {
   "cell_type": "markdown",
   "id": "50f07f72",
   "metadata": {},
   "source": [
    "## میانگین مصرف سوخت در شهر برای ماشین هایی که میزان کربن دی اکسید تولیدیشان بیشتر از 300 است"
   ]
  },
  {
   "cell_type": "code",
   "execution_count": 31,
   "id": "74af148b",
   "metadata": {},
   "outputs": [
    {
     "data": {
      "text/plain": [
       "0.0019948482513427734"
      ]
     },
     "execution_count": 31,
     "metadata": {},
     "output_type": "execute_result"
    }
   ],
   "source": [
    "first_time_end - first_time_start"
   ]
  },
  {
   "cell_type": "markdown",
   "id": "9f87ba3d",
   "metadata": {},
   "source": [
    "## زمان اجرای دو عمل بالا با استفاده از توابع کتابخانه ی پانداز"
   ]
  },
  {
   "cell_type": "code",
   "execution_count": null,
   "id": "1c42db76",
   "metadata": {},
   "outputs": [],
   "source": []
  },
  {
   "cell_type": "code",
   "execution_count": 32,
   "id": "02799fcf",
   "metadata": {},
   "outputs": [
    {
     "name": "stdout",
     "output_type": "stream",
     "text": [
      "10.037819025522042\n",
      "18.663255813953487\n"
     ]
    }
   ],
   "source": [
    "second_time_start = time.time()\n",
    "sum_of_fuelconsumption_under240 = 0\n",
    "num_of_under240 = 0\n",
    "sum_of_fuelconsumption_up300 = 0\n",
    "num_of_up300 = 0\n",
    "for i in dataframe[\"Unnamed: 0\"]:\n",
    "    if dataframe[\"CO2EMISSIONS\"][i] < 240:\n",
    "        sum_of_fuelconsumption_under240 += dataframe[\"FUELCONSUMPTION_CITY\"][i]\n",
    "        num_of_under240 += 1\n",
    "    elif dataframe[\"CO2EMISSIONS\"][i] > 300:\n",
    "        sum_of_fuelconsumption_up300 += dataframe[\"FUELCONSUMPTION_CITY\"][i]\n",
    "        num_of_up300 += 1\n",
    "    i += 1\n",
    "second_time_end = time.time()\n",
    "print(sum_of_fuelconsumption_under240 / num_of_under240)\n",
    "print(sum_of_fuelconsumption_up300 / num_of_up300)"
   ]
  },
  {
   "cell_type": "code",
   "execution_count": 33,
   "id": "277cd112",
   "metadata": {},
   "outputs": [
    {
     "data": {
      "text/plain": [
       "0.008975982666015625"
      ]
     },
     "execution_count": 33,
     "metadata": {},
     "output_type": "execute_result"
    }
   ],
   "source": [
    "second_time_end - second_time_start"
   ]
  },
  {
   "cell_type": "markdown",
   "id": "d3bb29c3",
   "metadata": {},
   "source": [
    "## زمان اجرای دو عمل قبلی با استفاده از حلقه"
   ]
  },
  {
   "cell_type": "markdown",
   "id": "033475bf",
   "metadata": {},
   "source": [
    "## به دلیل استفاده از وکتوریزیشن در حالت اول ، زمان اجرای کد به طرز قابل توجهی کمتر از حالت دوم که تنها با استفاده از حلقه است ، می باشد"
   ]
  },
  {
   "cell_type": "code",
   "execution_count": 34,
   "id": "ea27c582",
   "metadata": {},
   "outputs": [
    {
     "data": {
      "text/plain": [
       "<AxesSubplot:>"
      ]
     },
     "execution_count": 34,
     "metadata": {},
     "output_type": "execute_result"
    },
    {
     "data": {
      "image/png": "[encoded data removed]",
      "text/plain": [
       "<Figure size 432x288 with 1 Axes>"
      ]
     },
     "metadata": {
      "needs_background": "light"
     },
     "output_type": "display_data"
    }
   ],
   "source": [
    "dataframe[\"MODELYEAR\"].hist()"
   ]
  },
  {
   "cell_type": "code",
   "execution_count": 35,
   "id": "aa4024a3",
   "metadata": {},
   "outputs": [
    {
     "data": {
      "text/plain": [
       "<AxesSubplot:>"
      ]
     },
     "execution_count": 35,
     "metadata": {},
     "output_type": "execute_result"
    },
    {
     "data": {
      "image/png": "[encoded data removed]",
      "text/plain": [
       "<Figure size 432x288 with 1 Axes>"
      ]
     },
     "metadata": {
      "needs_background": "light"
     },
     "output_type": "display_data"
    }
   ],
   "source": [
    "dataframe[\"MAKE\"].hist()"
   ]
  },
  {
   "cell_type": "code",
   "execution_count": 36,
   "id": "07c82e19",
   "metadata": {},
   "outputs": [
    {
     "data": {
      "text/plain": [
       "<AxesSubplot:>"
      ]
     },
     "execution_count": 36,
     "metadata": {},
     "output_type": "execute_result"
    },
    {
     "data": {
      "image/png": "[encoded data removed]",
      "text/plain": [
       "<Figure size 432x288 with 1 Axes>"
      ]
     },
     "metadata": {
      "needs_background": "light"
     },
     "output_type": "display_data"
    }
   ],
   "source": [
    "dataframe[\"MODEL\"].hist()"
   ]
  },
  {
   "cell_type": "code",
   "execution_count": 37,
   "id": "7f2582c9",
   "metadata": {},
   "outputs": [
    {
     "data": {
      "text/plain": [
       "<AxesSubplot:>"
      ]
     },
     "execution_count": 37,
     "metadata": {},
     "output_type": "execute_result"
    },
    {
     "data": {
      "image/png": "[encoded data removed]",
      "text/plain": [
       "<Figure size 432x288 with 1 Axes>"
      ]
     },
     "metadata": {
      "needs_background": "light"
     },
     "output_type": "display_data"
    }
   ],
   "source": [
    "dataframe[\"VEHICLECLASS\"].hist()"
   ]
  },
  {
   "cell_type": "code",
   "execution_count": 38,
   "id": "b8585da2",
   "metadata": {},
   "outputs": [
    {
     "data": {
      "text/plain": [
       "<AxesSubplot:>"
      ]
     },
     "execution_count": 38,
     "metadata": {},
     "output_type": "execute_result"
    },
    {
     "data": {
      "image/png": "[encoded data removed]",
      "text/plain": [
       "<Figure size 432x288 with 1 Axes>"
      ]
     },
     "metadata": {
      "needs_background": "light"
     },
     "output_type": "display_data"
    }
   ],
   "source": [
    "dataframe[\"ENGINESIZE\"].hist()"
   ]
  },
  {
   "cell_type": "code",
   "execution_count": 39,
   "id": "5a974396",
   "metadata": {},
   "outputs": [
    {
     "data": {
      "text/plain": [
       "<AxesSubplot:>"
      ]
     },
     "execution_count": 39,
     "metadata": {},
     "output_type": "execute_result"
    },
    {
     "data": {
      "image/png": "[encoded data removed]",
      "text/plain": [
       "<Figure size 432x288 with 1 Axes>"
      ]
     },
     "metadata": {
      "needs_background": "light"
     },
     "output_type": "display_data"
    }
   ],
   "source": [
    "dataframe[\"CYLINDERS\"].hist()"
   ]
  },
  {
   "cell_type": "code",
   "execution_count": 40,
   "id": "6ea428ad",
   "metadata": {},
   "outputs": [
    {
     "data": {
      "text/plain": [
       "<AxesSubplot:>"
      ]
     },
     "execution_count": 40,
     "metadata": {},
     "output_type": "execute_result"
    },
    {
     "data": {
      "image/png": "[encoded data removed]",
      "text/plain": [
       "<Figure size 432x288 with 1 Axes>"
      ]
     },
     "metadata": {
      "needs_background": "light"
     },
     "output_type": "display_data"
    }
   ],
   "source": [
    "dataframe[\"TRANSMISSION\"].hist()"
   ]
  },
  {
   "cell_type": "code",
   "execution_count": 41,
   "id": "b89b3fe3",
   "metadata": {},
   "outputs": [
    {
     "data": {
      "text/plain": [
       "<AxesSubplot:>"
      ]
     },
     "execution_count": 41,
     "metadata": {},
     "output_type": "execute_result"
    },
    {
     "data": {
      "image/png": "[encoded data removed]",
      "text/plain": [
       "<Figure size 432x288 with 1 Axes>"
      ]
     },
     "metadata": {
      "needs_background": "light"
     },
     "output_type": "display_data"
    }
   ],
   "source": [
    "dataframe[\"FUELTYPE\"].hist()"
   ]
  },
  {
   "cell_type": "code",
   "execution_count": 42,
   "id": "9f05d738",
   "metadata": {},
   "outputs": [
    {
     "data": {
      "text/plain": [
       "<AxesSubplot:>"
      ]
     },
     "execution_count": 42,
     "metadata": {},
     "output_type": "execute_result"
    },
    {
     "data": {
      "image/png": "[encoded data removed]",
      "text/plain": [
       "<Figure size 432x288 with 1 Axes>"
      ]
     },
     "metadata": {
      "needs_background": "light"
     },
     "output_type": "display_data"
    }
   ],
   "source": [
    "dataframe[\"FUELCONSUMPTION_CITY\"].hist()"
   ]
  },
  {
   "cell_type": "code",
   "execution_count": 43,
   "id": "ee62a597",
   "metadata": {},
   "outputs": [
    {
     "data": {
      "text/plain": [
       "<AxesSubplot:>"
      ]
     },
     "execution_count": 43,
     "metadata": {},
     "output_type": "execute_result"
    },
    {
     "data": {
      "image/png": "[encoded data removed]",
      "text/plain": [
       "<Figure size 432x288 with 1 Axes>"
      ]
     },
     "metadata": {
      "needs_background": "light"
     },
     "output_type": "display_data"
    }
   ],
   "source": [
    "dataframe[\"FUELCONSUMPTION_HWY\"].hist()"
   ]
  },
  {
   "cell_type": "code",
   "execution_count": 44,
   "id": "47641f54",
   "metadata": {},
   "outputs": [
    {
     "data": {
      "text/plain": [
       "<AxesSubplot:>"
      ]
     },
     "execution_count": 44,
     "metadata": {},
     "output_type": "execute_result"
    },
    {
     "data": {
      "image/png": "[encoded data removed]",
      "text/plain": [
       "<Figure size 432x288 with 1 Axes>"
      ]
     },
     "metadata": {
      "needs_background": "light"
     },
     "output_type": "display_data"
    }
   ],
   "source": [
    "dataframe[\"FUELCONSUMPTION_COMB\"].hist()"
   ]
  },
  {
   "cell_type": "code",
   "execution_count": 45,
   "id": "7bd2d977",
   "metadata": {},
   "outputs": [
    {
     "data": {
      "text/plain": [
       "<AxesSubplot:>"
      ]
     },
     "execution_count": 45,
     "metadata": {},
     "output_type": "execute_result"
    },
    {
     "data": {
      "image/png": "[encoded data removed]",
      "text/plain": [
       "<Figure size 432x288 with 1 Axes>"
      ]
     },
     "metadata": {
      "needs_background": "light"
     },
     "output_type": "display_data"
    }
   ],
   "source": [
    "dataframe[\"FUELCONSUMPTION_COMB_MPG\"].hist()"
   ]
  },
  {
   "cell_type": "code",
   "execution_count": 46,
   "id": "dd386023",
   "metadata": {},
   "outputs": [
    {
     "data": {
      "text/plain": [
       "<AxesSubplot:>"
      ]
     },
     "execution_count": 46,
     "metadata": {},
     "output_type": "execute_result"
    },
    {
     "data": {
      "image/png": "[encoded data removed]",
      "text/plain": [
       "<Figure size 432x288 with 1 Axes>"
      ]
     },
     "metadata": {
      "needs_background": "light"
     },
     "output_type": "display_data"
    }
   ],
   "source": [
    "dataframe[\"CO2EMISSIONS\"].hist()"
   ]
  },
  {
   "cell_type": "code",
   "execution_count": 47,
   "id": "76decaad",
   "metadata": {},
   "outputs": [],
   "source": [
    "dataframe[\"ENGINESIZE\"] = (dataframe[\"ENGINESIZE\"] - dataframe[\"ENGINESIZE\"].mean()) / dataframe[\"ENGINESIZE\"].std()"
   ]
  },
  {
   "cell_type": "code",
   "execution_count": 48,
   "id": "f84a585e",
   "metadata": {},
   "outputs": [],
   "source": [
    "dataframe[\"CYLINDERS\"] = (dataframe[\"CYLINDERS\"] - dataframe[\"CYLINDERS\"].mean()) / dataframe[\"CYLINDERS\"].std()"
   ]
  },
  {
   "cell_type": "code",
   "execution_count": 49,
   "id": "c47817e9",
   "metadata": {},
   "outputs": [],
   "source": [
    "dataframe[\"FUELCONSUMPTION_CITY\"] = (dataframe[\"FUELCONSUMPTION_CITY\"] - dataframe[\"FUELCONSUMPTION_CITY\"].mean()) / dataframe[\"FUELCONSUMPTION_CITY\"].std()"
   ]
  },
  {
   "cell_type": "code",
   "execution_count": 50,
   "id": "1a161fe5",
   "metadata": {},
   "outputs": [],
   "source": [
    "dataframe[\"FUELCONSUMPTION_HWY\"] = (dataframe[\"FUELCONSUMPTION_HWY\"] - dataframe[\"FUELCONSUMPTION_HWY\"].mean()) / dataframe[\"FUELCONSUMPTION_HWY\"].std()"
   ]
  },
  {
   "cell_type": "code",
   "execution_count": 51,
   "id": "dd93ebff",
   "metadata": {},
   "outputs": [],
   "source": [
    "dataframe[\"FUELCONSUMPTION_COMB\"] = (dataframe[\"FUELCONSUMPTION_COMB\"] - dataframe[\"FUELCONSUMPTION_COMB\"].mean()) / dataframe[\"FUELCONSUMPTION_COMB\"].std()"
   ]
  },
  {
   "cell_type": "code",
   "execution_count": 52,
   "id": "3ed758d2",
   "metadata": {},
   "outputs": [],
   "source": [
    "dataframe[\"FUELCONSUMPTION_COMB_MPG\"] = (dataframe[\"FUELCONSUMPTION_COMB_MPG\"] - dataframe[\"FUELCONSUMPTION_COMB_MPG\"].mean()) / dataframe[\"FUELCONSUMPTION_COMB_MPG\"].std()"
   ]
  },
  {
   "cell_type": "markdown",
   "id": "3d043b32",
   "metadata": {},
   "source": [
    "## نرمال سازی داده های عددی با کم کردن میانگین و تقسیم کردن بر انحراف معیار"
   ]
  },
  {
   "cell_type": "code",
   "execution_count": 53,
   "id": "324d58e9",
   "metadata": {},
   "outputs": [
    {
     "data": {
      "text/html": [
       "<div>\n",
       "<style scoped>\n",
       "    .dataframe tbody tr th:only-of-type {\n",
       "        vertical-align: middle;\n",
       "    }\n",
       "\n",
       "    .dataframe tbody tr th {\n",
       "        vertical-align: top;\n",
       "    }\n",
       "\n",
       "    .dataframe thead th {\n",
       "        text-align: right;\n",
       "    }\n",
       "</style>\n",
       "<table border=\"1\" class=\"dataframe\">\n",
       "  <thead>\n",
       "    <tr style=\"text-align: right;\">\n",
       "      <th></th>\n",
       "      <th>Unnamed: 0</th>\n",
       "      <th>MODELYEAR</th>\n",
       "      <th>MAKE</th>\n",
       "      <th>MODEL</th>\n",
       "      <th>VEHICLECLASS</th>\n",
       "      <th>ENGINESIZE</th>\n",
       "      <th>CYLINDERS</th>\n",
       "      <th>TRANSMISSION</th>\n",
       "      <th>FUELTYPE</th>\n",
       "      <th>FUELCONSUMPTION_CITY</th>\n",
       "      <th>FUELCONSUMPTION_HWY</th>\n",
       "      <th>FUELCONSUMPTION_COMB</th>\n",
       "      <th>FUELCONSUMPTION_COMB_MPG</th>\n",
       "      <th>CO2EMISSIONS</th>\n",
       "    </tr>\n",
       "  </thead>\n",
       "  <tbody>\n",
       "    <tr>\n",
       "      <th>0</th>\n",
       "      <td>0</td>\n",
       "      <td>2014</td>\n",
       "      <td>0</td>\n",
       "      <td>329</td>\n",
       "      <td>0</td>\n",
       "      <td>-0.973622</td>\n",
       "      <td>-1.024099</td>\n",
       "      <td>10</td>\n",
       "      <td>3</td>\n",
       "      <td>-0.833605</td>\n",
       "      <td>-0.994870</td>\n",
       "      <td>-0.888216</td>\n",
       "      <td>0.886286</td>\n",
       "      <td>196.0</td>\n",
       "    </tr>\n",
       "    <tr>\n",
       "      <th>1</th>\n",
       "      <td>1</td>\n",
       "      <td>2014</td>\n",
       "      <td>0</td>\n",
       "      <td>329</td>\n",
       "      <td>0</td>\n",
       "      <td>-0.683744</td>\n",
       "      <td>-1.024099</td>\n",
       "      <td>20</td>\n",
       "      <td>3</td>\n",
       "      <td>-0.519842</td>\n",
       "      <td>-0.641939</td>\n",
       "      <td>-0.576247</td>\n",
       "      <td>0.352882</td>\n",
       "      <td>221.0</td>\n",
       "    </tr>\n",
       "    <tr>\n",
       "      <th>2</th>\n",
       "      <td>2</td>\n",
       "      <td>2014</td>\n",
       "      <td>0</td>\n",
       "      <td>330</td>\n",
       "      <td>0</td>\n",
       "      <td>-1.335970</td>\n",
       "      <td>-1.024099</td>\n",
       "      <td>17</td>\n",
       "      <td>3</td>\n",
       "      <td>-1.774893</td>\n",
       "      <td>-1.312508</td>\n",
       "      <td>-1.625596</td>\n",
       "      <td>2.886552</td>\n",
       "      <td>136.0</td>\n",
       "    </tr>\n",
       "    <tr>\n",
       "      <th>4</th>\n",
       "      <td>4</td>\n",
       "      <td>2014</td>\n",
       "      <td>0</td>\n",
       "      <td>482</td>\n",
       "      <td>11</td>\n",
       "      <td>0.113422</td>\n",
       "      <td>0.100355</td>\n",
       "      <td>11</td>\n",
       "      <td>3</td>\n",
       "      <td>-0.302621</td>\n",
       "      <td>-0.289008</td>\n",
       "      <td>-0.292640</td>\n",
       "      <td>0.086180</td>\n",
       "      <td>244.0</td>\n",
       "    </tr>\n",
       "    <tr>\n",
       "      <th>5</th>\n",
       "      <td>5</td>\n",
       "      <td>2014</td>\n",
       "      <td>0</td>\n",
       "      <td>489</td>\n",
       "      <td>2</td>\n",
       "      <td>0.113422</td>\n",
       "      <td>0.100355</td>\n",
       "      <td>11</td>\n",
       "      <td>3</td>\n",
       "      <td>-0.350893</td>\n",
       "      <td>-0.641939</td>\n",
       "      <td>-0.462804</td>\n",
       "      <td>0.219531</td>\n",
       "      <td>230.0</td>\n",
       "    </tr>\n",
       "    <tr>\n",
       "      <th>...</th>\n",
       "      <td>...</td>\n",
       "      <td>...</td>\n",
       "      <td>...</td>\n",
       "      <td>...</td>\n",
       "      <td>...</td>\n",
       "      <td>...</td>\n",
       "      <td>...</td>\n",
       "      <td>...</td>\n",
       "      <td>...</td>\n",
       "      <td>...</td>\n",
       "      <td>...</td>\n",
       "      <td>...</td>\n",
       "      <td>...</td>\n",
       "      <td>...</td>\n",
       "    </tr>\n",
       "    <tr>\n",
       "      <th>1062</th>\n",
       "      <td>1062</td>\n",
       "      <td>2014</td>\n",
       "      <td>38</td>\n",
       "      <td>623</td>\n",
       "      <td>11</td>\n",
       "      <td>-0.248926</td>\n",
       "      <td>0.100355</td>\n",
       "      <td>11</td>\n",
       "      <td>2</td>\n",
       "      <td>0.011141</td>\n",
       "      <td>0.099216</td>\n",
       "      <td>0.047690</td>\n",
       "      <td>-0.313873</td>\n",
       "      <td>271.0</td>\n",
       "    </tr>\n",
       "    <tr>\n",
       "      <th>1063</th>\n",
       "      <td>1063</td>\n",
       "      <td>2014</td>\n",
       "      <td>38</td>\n",
       "      <td>623</td>\n",
       "      <td>11</td>\n",
       "      <td>-0.103987</td>\n",
       "      <td>0.100355</td>\n",
       "      <td>11</td>\n",
       "      <td>2</td>\n",
       "      <td>-0.037130</td>\n",
       "      <td>-0.006663</td>\n",
       "      <td>-0.037393</td>\n",
       "      <td>-0.180522</td>\n",
       "      <td>264.0</td>\n",
       "    </tr>\n",
       "    <tr>\n",
       "      <th>1064</th>\n",
       "      <td>1064</td>\n",
       "      <td>2014</td>\n",
       "      <td>38</td>\n",
       "      <td>624</td>\n",
       "      <td>11</td>\n",
       "      <td>-0.248926</td>\n",
       "      <td>0.100355</td>\n",
       "      <td>11</td>\n",
       "      <td>2</td>\n",
       "      <td>0.011141</td>\n",
       "      <td>0.099216</td>\n",
       "      <td>0.047690</td>\n",
       "      <td>-0.313873</td>\n",
       "      <td>271.0</td>\n",
       "    </tr>\n",
       "    <tr>\n",
       "      <th>1065</th>\n",
       "      <td>1065</td>\n",
       "      <td>2014</td>\n",
       "      <td>38</td>\n",
       "      <td>624</td>\n",
       "      <td>11</td>\n",
       "      <td>-0.103987</td>\n",
       "      <td>0.100355</td>\n",
       "      <td>11</td>\n",
       "      <td>2</td>\n",
       "      <td>-0.109537</td>\n",
       "      <td>-0.077249</td>\n",
       "      <td>-0.094114</td>\n",
       "      <td>-0.180522</td>\n",
       "      <td>260.0</td>\n",
       "    </tr>\n",
       "    <tr>\n",
       "      <th>1066</th>\n",
       "      <td>1066</td>\n",
       "      <td>2014</td>\n",
       "      <td>38</td>\n",
       "      <td>625</td>\n",
       "      <td>12</td>\n",
       "      <td>-0.103987</td>\n",
       "      <td>0.100355</td>\n",
       "      <td>11</td>\n",
       "      <td>2</td>\n",
       "      <td>0.373175</td>\n",
       "      <td>0.240388</td>\n",
       "      <td>0.331297</td>\n",
       "      <td>-0.580575</td>\n",
       "      <td>294.0</td>\n",
       "    </tr>\n",
       "  </tbody>\n",
       "</table>\n",
       "<p>964 rows × 14 columns</p>\n",
       "</div>"
      ],
      "text/plain": [
       "      Unnamed: 0  MODELYEAR  MAKE  MODEL  VEHICLECLASS  ENGINESIZE  CYLINDERS  \\\n",
       "0              0       2014     0    329             0   -0.973622  -1.024099   \n",
       "1              1       2014     0    329             0   -0.683744  -1.024099   \n",
       "2              2       2014     0    330             0   -1.335970  -1.024099   \n",
       "4              4       2014     0    482            11    0.113422   0.100355   \n",
       "5              5       2014     0    489             2    0.113422   0.100355   \n",
       "...          ...        ...   ...    ...           ...         ...        ...   \n",
       "1062        1062       2014    38    623            11   -0.248926   0.100355   \n",
       "1063        1063       2014    38    623            11   -0.103987   0.100355   \n",
       "1064        1064       2014    38    624            11   -0.248926   0.100355   \n",
       "1065        1065       2014    38    624            11   -0.103987   0.100355   \n",
       "1066        1066       2014    38    625            12   -0.103987   0.100355   \n",
       "\n",
       "      TRANSMISSION  FUELTYPE  FUELCONSUMPTION_CITY  FUELCONSUMPTION_HWY  \\\n",
       "0               10         3             -0.833605            -0.994870   \n",
       "1               20         3             -0.519842            -0.641939   \n",
       "2               17         3             -1.774893            -1.312508   \n",
       "4               11         3             -0.302621            -0.289008   \n",
       "5               11         3             -0.350893            -0.641939   \n",
       "...            ...       ...                   ...                  ...   \n",
       "1062            11         2              0.011141             0.099216   \n",
       "1063            11         2             -0.037130            -0.006663   \n",
       "1064            11         2              0.011141             0.099216   \n",
       "1065            11         2             -0.109537            -0.077249   \n",
       "1066            11         2              0.373175             0.240388   \n",
       "\n",
       "      FUELCONSUMPTION_COMB  FUELCONSUMPTION_COMB_MPG  CO2EMISSIONS  \n",
       "0                -0.888216                  0.886286         196.0  \n",
       "1                -0.576247                  0.352882         221.0  \n",
       "2                -1.625596                  2.886552         136.0  \n",
       "4                -0.292640                  0.086180         244.0  \n",
       "5                -0.462804                  0.219531         230.0  \n",
       "...                    ...                       ...           ...  \n",
       "1062              0.047690                 -0.313873         271.0  \n",
       "1063             -0.037393                 -0.180522         264.0  \n",
       "1064              0.047690                 -0.313873         271.0  \n",
       "1065             -0.094114                 -0.180522         260.0  \n",
       "1066              0.331297                 -0.580575         294.0  \n",
       "\n",
       "[964 rows x 14 columns]"
      ]
     },
     "execution_count": 53,
     "metadata": {},
     "output_type": "execute_result"
    }
   ],
   "source": [
    "dataframe"
   ]
  },
  {
   "cell_type": "markdown",
   "id": "dbc87cd1",
   "metadata": {},
   "source": [
    "## نتیجه نرمال سازی در ستون های عددی قابل مشاهده است"
   ]
  },
  {
   "cell_type": "code",
   "execution_count": 54,
   "id": "c7137aa9",
   "metadata": {},
   "outputs": [
    {
     "data": {
      "image/png": "[encoded data removed]",
      "text/plain": [
       "<Figure size 432x288 with 1 Axes>"
      ]
     },
     "metadata": {
      "needs_background": "light"
     },
     "output_type": "display_data"
    }
   ],
   "source": [
    "fig1 = ml.pyplot.figure()\n",
    "ax1 = fig1.add_axes([0,0,1,1])\n",
    "ax1.scatter(dataframe[\"ENGINESIZE\"], dataframe[\"CO2EMISSIONS\"])\n",
    "ax1.set_xlabel(\"ENGINESIZE\")\n",
    "ax1.set_ylabel(\"CO2EMISSIONS\")\n",
    "ml.pyplot.show()"
   ]
  },
  {
   "cell_type": "code",
   "execution_count": 55,
   "id": "d278b7c5",
   "metadata": {},
   "outputs": [
    {
     "data": {
      "image/png": "[encoded data removed]",
      "text/plain": [
       "<Figure size 432x288 with 1 Axes>"
      ]
     },
     "metadata": {
      "needs_background": "light"
     },
     "output_type": "display_data"
    }
   ],
   "source": [
    "fig2 = ml.pyplot.figure()\n",
    "ax2 = fig2.add_axes([0,0,1,1])\n",
    "ax2.scatter(dataframe[\"CYLINDERS\"], dataframe[\"CO2EMISSIONS\"])\n",
    "ax2.set_xlabel(\"CYLINDERS\")\n",
    "ax2.set_ylabel(\"CO2EMISSIONS\")\n",
    "ml.pyplot.show()"
   ]
  },
  {
   "cell_type": "code",
   "execution_count": 56,
   "id": "e039ae1c",
   "metadata": {},
   "outputs": [
    {
     "data": {
      "image/png": "[encoded data removed]",
      "text/plain": [
       "<Figure size 432x288 with 1 Axes>"
      ]
     },
     "metadata": {
      "needs_background": "light"
     },
     "output_type": "display_data"
    }
   ],
   "source": [
    "fig3 = ml.pyplot.figure()\n",
    "ax3 = fig3.add_axes([0,0,1,1])\n",
    "ax3.scatter(dataframe[\"FUELCONSUMPTION_CITY\"], dataframe[\"CO2EMISSIONS\"])\n",
    "ax3.set_xlabel(\"FUELCONSUMPTION_CITY\")\n",
    "ax3.set_ylabel(\"CO2EMISSIONS\")\n",
    "ml.pyplot.show()"
   ]
  },
  {
   "cell_type": "code",
   "execution_count": 57,
   "id": "5f6aa20e",
   "metadata": {},
   "outputs": [
    {
     "data": {
      "image/png": "[encoded data removed]",
      "text/plain": [
       "<Figure size 432x288 with 1 Axes>"
      ]
     },
     "metadata": {
      "needs_background": "light"
     },
     "output_type": "display_data"
    }
   ],
   "source": [
    "fig4 = ml.pyplot.figure()\n",
    "ax4 = fig4.add_axes([0,0,1,1])\n",
    "ax4.scatter(dataframe[\"FUELCONSUMPTION_HWY\"], dataframe[\"CO2EMISSIONS\"])\n",
    "ax4.set_xlabel(\"FUELCONSUMPTION_HWY\")\n",
    "ax4.set_ylabel(\"CO2EMISSIONS\")\n",
    "ml.pyplot.show()"
   ]
  },
  {
   "cell_type": "code",
   "execution_count": 58,
   "id": "31985edc",
   "metadata": {},
   "outputs": [
    {
     "data": {
      "image/png": "[encoded data removed]",
      "text/plain": [
       "<Figure size 432x288 with 1 Axes>"
      ]
     },
     "metadata": {
      "needs_background": "light"
     },
     "output_type": "display_data"
    }
   ],
   "source": [
    "fig5 = ml.pyplot.figure()\n",
    "ax5 = fig5.add_axes([0,0,1,1])\n",
    "ax5.scatter(dataframe[\"FUELCONSUMPTION_COMB\"], dataframe[\"CO2EMISSIONS\"])\n",
    "ax5.set_xlabel(\"FUELCONSUMPTION_COMB\")\n",
    "ax5.set_ylabel(\"CO2EMISSIONS\")\n",
    "ml.pyplot.show()"
   ]
  },
  {
   "cell_type": "code",
   "execution_count": 59,
   "id": "895f8f76",
   "metadata": {},
   "outputs": [
    {
     "data": {
      "image/png": "[encoded data removed]",
      "text/plain": [
       "<Figure size 432x288 with 1 Axes>"
      ]
     },
     "metadata": {
      "needs_background": "light"
     },
     "output_type": "display_data"
    }
   ],
   "source": [
    "fig6 = ml.pyplot.figure()\n",
    "ax6 = fig6.add_axes([0,0,1,1])\n",
    "ax6.scatter(dataframe[\"FUELCONSUMPTION_COMB_MPG\"], dataframe[\"CO2EMISSIONS\"])\n",
    "ax6.set_xlabel(\"FUELCONSUMPTION_COMB_MPG\")\n",
    "ax6.set_ylabel(\"CO2EMISSIONS\")\n",
    "ml.pyplot.show()"
   ]
  },
  {
   "cell_type": "markdown",
   "id": "55a104d0",
   "metadata": {},
   "source": [
    "## با توجه به نمودار های بالا مقدار مصرف سوخت ترکیبی بیشترین همبستگی را با مقدار کربن دی اکسید تولیدی دارد "
   ]
  },
  {
   "cell_type": "code",
   "execution_count": 60,
   "id": "054c6e56",
   "metadata": {},
   "outputs": [],
   "source": [
    "new_dataframe = pd.DataFrame(dataframe[\"FUELCONSUMPTION_COMB\"])"
   ]
  },
  {
   "cell_type": "code",
   "execution_count": 61,
   "id": "9ad688aa",
   "metadata": {},
   "outputs": [],
   "source": [
    "new_dataframe = new_dataframe.join(dataframe[\"CO2EMISSIONS\"])"
   ]
  },
  {
   "cell_type": "code",
   "execution_count": 62,
   "id": "c7682749",
   "metadata": {},
   "outputs": [
    {
     "data": {
      "text/html": [
       "<div>\n",
       "<style scoped>\n",
       "    .dataframe tbody tr th:only-of-type {\n",
       "        vertical-align: middle;\n",
       "    }\n",
       "\n",
       "    .dataframe tbody tr th {\n",
       "        vertical-align: top;\n",
       "    }\n",
       "\n",
       "    .dataframe thead th {\n",
       "        text-align: right;\n",
       "    }\n",
       "</style>\n",
       "<table border=\"1\" class=\"dataframe\">\n",
       "  <thead>\n",
       "    <tr style=\"text-align: right;\">\n",
       "      <th></th>\n",
       "      <th>FUELCONSUMPTION_COMB</th>\n",
       "      <th>CO2EMISSIONS</th>\n",
       "    </tr>\n",
       "  </thead>\n",
       "  <tbody>\n",
       "    <tr>\n",
       "      <th>0</th>\n",
       "      <td>-0.888216</td>\n",
       "      <td>196.0</td>\n",
       "    </tr>\n",
       "    <tr>\n",
       "      <th>1</th>\n",
       "      <td>-0.576247</td>\n",
       "      <td>221.0</td>\n",
       "    </tr>\n",
       "    <tr>\n",
       "      <th>2</th>\n",
       "      <td>-1.625596</td>\n",
       "      <td>136.0</td>\n",
       "    </tr>\n",
       "    <tr>\n",
       "      <th>4</th>\n",
       "      <td>-0.292640</td>\n",
       "      <td>244.0</td>\n",
       "    </tr>\n",
       "    <tr>\n",
       "      <th>5</th>\n",
       "      <td>-0.462804</td>\n",
       "      <td>230.0</td>\n",
       "    </tr>\n",
       "    <tr>\n",
       "      <th>...</th>\n",
       "      <td>...</td>\n",
       "      <td>...</td>\n",
       "    </tr>\n",
       "    <tr>\n",
       "      <th>1062</th>\n",
       "      <td>0.047690</td>\n",
       "      <td>271.0</td>\n",
       "    </tr>\n",
       "    <tr>\n",
       "      <th>1063</th>\n",
       "      <td>-0.037393</td>\n",
       "      <td>264.0</td>\n",
       "    </tr>\n",
       "    <tr>\n",
       "      <th>1064</th>\n",
       "      <td>0.047690</td>\n",
       "      <td>271.0</td>\n",
       "    </tr>\n",
       "    <tr>\n",
       "      <th>1065</th>\n",
       "      <td>-0.094114</td>\n",
       "      <td>260.0</td>\n",
       "    </tr>\n",
       "    <tr>\n",
       "      <th>1066</th>\n",
       "      <td>0.331297</td>\n",
       "      <td>294.0</td>\n",
       "    </tr>\n",
       "  </tbody>\n",
       "</table>\n",
       "<p>964 rows × 2 columns</p>\n",
       "</div>"
      ],
      "text/plain": [
       "      FUELCONSUMPTION_COMB  CO2EMISSIONS\n",
       "0                -0.888216         196.0\n",
       "1                -0.576247         221.0\n",
       "2                -1.625596         136.0\n",
       "4                -0.292640         244.0\n",
       "5                -0.462804         230.0\n",
       "...                    ...           ...\n",
       "1062              0.047690         271.0\n",
       "1063             -0.037393         264.0\n",
       "1064              0.047690         271.0\n",
       "1065             -0.094114         260.0\n",
       "1066              0.331297         294.0\n",
       "\n",
       "[964 rows x 2 columns]"
      ]
     },
     "execution_count": 62,
     "metadata": {},
     "output_type": "execute_result"
    }
   ],
   "source": [
    "new_dataframe"
   ]
  },
  {
   "cell_type": "code",
   "execution_count": 63,
   "id": "eed5f167",
   "metadata": {},
   "outputs": [],
   "source": [
    "X = new_dataframe[\"FUELCONSUMPTION_COMB\"]\n",
    "X_mat = np.vstack((np.ones(len(X)), X)).T"
   ]
  },
  {
   "cell_type": "code",
   "execution_count": 64,
   "id": "394feb80",
   "metadata": {},
   "outputs": [],
   "source": [
    "Y = new_dataframe[\"CO2EMISSIONS\"]"
   ]
  },
  {
   "cell_type": "code",
   "execution_count": 74,
   "id": "8875cd47",
   "metadata": {},
   "outputs": [],
   "source": [
    "beta_hat = np.linalg.pinv(X_mat.T.dot(X_mat)).dot(X_mat.T).dot(Y)"
   ]
  },
  {
   "cell_type": "code",
   "execution_count": 75,
   "id": "bb3f8350",
   "metadata": {},
   "outputs": [],
   "source": [
    "Y_hat = X_mat.dot(beta_hat)"
   ]
  },
  {
   "cell_type": "code",
   "execution_count": 84,
   "id": "263d426f",
   "metadata": {},
   "outputs": [],
   "source": [
    "MSE = np.square(np.subtract(Y, Y_hat)).mean()"
   ]
  },
  {
   "cell_type": "code",
   "execution_count": 85,
   "id": "0fe089c3",
   "metadata": {},
   "outputs": [
    {
     "data": {
      "text/plain": [
       "840.5934528758048"
      ]
     },
     "execution_count": 85,
     "metadata": {},
     "output_type": "execute_result"
    }
   ],
   "source": [
    "MSE"
   ]
  },
  {
   "cell_type": "code",
   "execution_count": 86,
   "id": "c39d17ca",
   "metadata": {},
   "outputs": [
    {
     "data": {
      "image/png": "[encoded data removed]",
      "text/plain": [
       "<Figure size 432x288 with 1 Axes>"
      ]
     },
     "metadata": {
      "needs_background": "light"
     },
     "output_type": "display_data"
    }
   ],
   "source": [
    "fig7 = ml.pyplot.figure()\n",
    "ax7 = fig7.add_axes([0,0,1,1])\n",
    "ax7.scatter(X, Y)\n",
    "ax7.set_xlabel(\"FUELCONSUMPTION_COMB_MPG\")\n",
    "ax7.set_ylabel(\"CO2EMISSIONS\")\n",
    "ax7.plot(X, Y_hat, color = \"red\")\n",
    "ml.pyplot.show()"
   ]
  },
  {
   "cell_type": "markdown",
   "id": "98c44ead",
   "metadata": {},
   "source": [
    "## نمودار تابع تخمینگر به همراه داده های دیتا فریم اصلی"
   ]
  },
  {
   "cell_type": "code",
   "execution_count": 124,
   "id": "d963f93d",
   "metadata": {},
   "outputs": [],
   "source": [
    "X_test = test_dataframe[\"FUELCONSUMPTION_COMB_MPG\"]\n",
    "X_test = (X_test - X_test.mean()) / X_test.std()\n",
    "X_mat_test = np.vstack((np.ones(len(X_test)), X_test)).T\n",
    "Y_hat_test = X_mat_test.dot(beta_hat)"
   ]
  },
  {
   "cell_type": "code",
   "execution_count": 125,
   "id": "6a8e310d",
   "metadata": {},
   "outputs": [],
   "source": [
    "predict_dataframe = pd.DataFrame(Y_hat_test)"
   ]
  },
  {
   "cell_type": "code",
   "execution_count": 126,
   "id": "d412e70b",
   "metadata": {},
   "outputs": [
    {
     "data": {
      "text/html": [
       "<div>\n",
       "<style scoped>\n",
       "    .dataframe tbody tr th:only-of-type {\n",
       "        vertical-align: middle;\n",
       "    }\n",
       "\n",
       "    .dataframe tbody tr th {\n",
       "        vertical-align: top;\n",
       "    }\n",
       "\n",
       "    .dataframe thead th {\n",
       "        text-align: right;\n",
       "    }\n",
       "</style>\n",
       "<table border=\"1\" class=\"dataframe\">\n",
       "  <thead>\n",
       "    <tr style=\"text-align: right;\">\n",
       "      <th></th>\n",
       "      <th>0</th>\n",
       "    </tr>\n",
       "  </thead>\n",
       "  <tbody>\n",
       "    <tr>\n",
       "      <th>0</th>\n",
       "      <td>238.983350</td>\n",
       "    </tr>\n",
       "    <tr>\n",
       "      <th>1</th>\n",
       "      <td>262.534125</td>\n",
       "    </tr>\n",
       "    <tr>\n",
       "      <th>2</th>\n",
       "      <td>238.983350</td>\n",
       "    </tr>\n",
       "    <tr>\n",
       "      <th>3</th>\n",
       "      <td>207.582317</td>\n",
       "    </tr>\n",
       "    <tr>\n",
       "      <th>4</th>\n",
       "      <td>246.833608</td>\n",
       "    </tr>\n",
       "    <tr>\n",
       "      <th>...</th>\n",
       "      <td>...</td>\n",
       "    </tr>\n",
       "    <tr>\n",
       "      <th>98</th>\n",
       "      <td>278.234641</td>\n",
       "    </tr>\n",
       "    <tr>\n",
       "      <th>99</th>\n",
       "      <td>270.384383</td>\n",
       "    </tr>\n",
       "    <tr>\n",
       "      <th>100</th>\n",
       "      <td>246.833608</td>\n",
       "    </tr>\n",
       "    <tr>\n",
       "      <th>101</th>\n",
       "      <td>231.133092</td>\n",
       "    </tr>\n",
       "    <tr>\n",
       "      <th>102</th>\n",
       "      <td>246.833608</td>\n",
       "    </tr>\n",
       "  </tbody>\n",
       "</table>\n",
       "<p>103 rows × 1 columns</p>\n",
       "</div>"
      ],
      "text/plain": [
       "              0\n",
       "0    238.983350\n",
       "1    262.534125\n",
       "2    238.983350\n",
       "3    207.582317\n",
       "4    246.833608\n",
       "..          ...\n",
       "98   278.234641\n",
       "99   270.384383\n",
       "100  246.833608\n",
       "101  231.133092\n",
       "102  246.833608\n",
       "\n",
       "[103 rows x 1 columns]"
      ]
     },
     "execution_count": 126,
     "metadata": {},
     "output_type": "execute_result"
    }
   ],
   "source": [
    "predict_dataframe"
   ]
  },
  {
   "cell_type": "markdown",
   "id": "9ee9d6bb",
   "metadata": {},
   "source": [
    "## مقادیر پیشبینی شده برای میزان کربن دی اکسید برای دیتا فریم تست"
   ]
  },
  {
   "cell_type": "code",
   "execution_count": null,
   "id": "86668ca0",
   "metadata": {},
   "outputs": [],
   "source": []
  }
 ],
 "metadata": {
  "kernelspec": {
   "display_name": "Python 3 (ipykernel)",
   "language": "python",
   "name": "python3"
  },
  "language_info": {
   "codemirror_mode": {
    "name": "ipython",
    "version": 3
   },
   "file_extension": ".py",
   "mimetype": "text/x-python",
   "name": "python",
   "nbconvert_exporter": "python",
   "pygments_lexer": "ipython3",
   "version": "3.9.7"
  }
 },
 "nbformat": 4,
 "nbformat_minor": 5
}
